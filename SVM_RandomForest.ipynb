{
 "cells": [
  {
   "attachments": {
    "image.png": {
     "image/png": "[encoded data removed]"
    }
   },
   "cell_type": "markdown",
   "id": "d527775b",
   "metadata": {},
   "source": [
    "![image.png](attachment:image.png)\n",
    "\n",
    "_Aprendizaje Automático_\n",
    "\n",
    "_Máster Universitario en Inteligencia Artificial_\n",
    "\n",
    "# Actividad: Clasificación con máquinas de vectores de soporte y random forest\n",
    "\n",
    "## Objetivos\n",
    "\n",
    "Mediante esta actividad se pretende que ponga en práctica la creación de modelos basados en máquinas de vector de soporte y random forest. El objetivo es comprender de forma práctica con un problema determinado las diferencias que existen a la hora de entrenar los diferentes modelos.\n",
    "\n",
    "- Comprender el tratamiento de datos que hay que realizar para los modelos de clasificación.\n",
    "- Entender y aplicar el algoritmo de Random Forest a un problema de clasificación.\n",
    "- Entender y aplicar el algoritmo de Support Vector Machine a un problema de clasificación.\n",
    "- Evaluar y analizar los resultados de los clasificadores.\n",
    "- Investigar la aplicación de los modelos de clasificación a problemas reales.\n",
    "\n",
    "\n",
    "## Descripción de la actividad\n",
    "\n",
    "Debes completar los espacios indicados en el notebook con el código solicitado y la respuesta, en función de lo que se solicite. Ten encuenta que las celdas vacías indican cuántas líneas debe ocupar la respuesta, por lo general no más de una línea.\n",
    "\n",
    "El conjunto de datos con el que vamos a trabajar se encuentra en el siguiente enlace: https://archive.ics.uci.edu/dataset/31/covertype\n",
    "\n",
    "Este dataset ha sido generado para predecir el tipo de cubierta forestal únicamente a partir de variables cartográficas (sin datos de sensores remotos). El tipo de cubierta forestal real para una observación determinada (celda de 30 x 30 metros) se determinó a partir de los datos del Sistema de información de recursos (RIS) de la Región 2 del Servicio Forestal de EE. UU. (USFS). Las variables independientes se derivaron de datos obtenidos originalmente del Servicio Geológico de EE. UU. (USGS) y de datos del USFS. Los datos están en forma original (no escalados) y contienen columnas binarias (0 o 1) de datos para variables cualitativas independientes (áreas silvestres y tipos de suelo).\r\n",
    "Para ampliar información sobre el dataset y su origen, recomendamos leer la descripción completa del dataset en el enlace del repositorio. l.\n",
    "\n",
    "El objetivo de la clasificación será detectar el tipo de suelo.\n",
    "\n",
    "### Tareas que se deben realizar\n",
    "\n",
    "- Análisis descriptivo de los datos:\n",
    "   - Debe completarse el código solicitado y responder a las preguntas. Todo ello en el notebook dado como base.\n",
    "- Clasificación:\n",
    "  - Debe completarse el código solicitado y responder a las preguntas. Todo ello en el notebook dado como base.\n",
    "- Investigación:\n",
    "  - Buscar un artículo científico (https://scholar.google.es/) con un caso de uso de clasificación empleando una de las dos técnicas (o ambas) vistas en la actividad. Los artículos deben estar en revistas científicas, y deben ser posteriores a 2015. No debe utilizar técnicas de Deep Learning.\n",
    "  - Para el artículo indicar:\n",
    "    - Objetivo: cuál es el objetivo de la investigación, es decir a qué problema real está aplicando la clasificación.\n",
    "    - Cómo utilizan las técnicas de clasificación, si realizan alguna adaptación de los algoritmos indicarse.\n",
    "    - Principales resultados de la aplicación y de la investigación.\n"
   ]
  },
  {
   "cell_type": "markdown",
   "id": "c399e1d6",
   "metadata": {},
   "source": [
    "### Análisis descriptivo de los datos"
   ]
  },
  {
   "cell_type": "code",
   "execution_count": null,
   "id": "ed8056a1",
   "metadata": {},
   "outputs": [],
   "source": [
    "import numpy as np\n",
    "import pandas as pd\n",
    "from matplotlib import pyplot as plt\n",
    "import seaborn as sns"
   ]
  },
  {
   "cell_type": "code",
   "execution_count": null,
   "id": "9c732dd7",
   "metadata": {},
   "outputs": [],
   "source": [
    "# se carga el dataset\n",
    "df = pd.read_csv('covertype/covtype.csv')"
   ]
  },
  {
   "cell_type": "markdown",
   "id": "2b5650ab",
   "metadata": {},
   "source": [
    "¿Cuántas instancias de datos tiene el dataset?"
   ]
  },
  {
   "cell_type": "code",
   "execution_count": null,
   "id": "c21b23d3",
   "metadata": {},
   "outputs": [],
   "source": [
    "## PON AQUÍ TU CÓDIGO"
   ]
  },
  {
   "cell_type": "markdown",
   "id": "1869d474",
   "metadata": {},
   "source": [
    "## PON AQUÍ TU RESPUESTA"
   ]
  },
  {
   "cell_type": "markdown",
   "id": "26e1d966",
   "metadata": {},
   "source": [
    "¿Cuántas variables continuas hay en el dataset?"
   ]
  },
  {
   "cell_type": "code",
   "execution_count": null,
   "id": "9510e492",
   "metadata": {},
   "outputs": [],
   "source": [
    "## PON AQUÍ TU CÓDIGO"
   ]
  },
  {
   "cell_type": "markdown",
   "id": "29b8ec58",
   "metadata": {},
   "source": [
    " variables continuas"
   ]
  },
  {
   "cell_type": "markdown",
   "id": "12c2a9c8",
   "metadata": {},
   "source": [
    "¿Cuántas variables categóricas hay en el dataset? Indica las categorías."
   ]
  },
  {
   "cell_type": "markdown",
   "id": "22955251",
   "metadata": {},
   "source": [
    "hay X variables categóricas"
   ]
  },
  {
   "cell_type": "code",
   "execution_count": null,
   "id": "a8b9782f",
   "metadata": {},
   "outputs": [],
   "source": []
  },
  {
   "cell_type": "markdown",
   "id": "9b259f7a",
   "metadata": {},
   "source": [
    "¿Cómo es la distribución de etiquetas de clase en el dataset? Con estos datos, ¿podríamos decir que el dataset está balanceado?"
   ]
  },
  {
   "cell_type": "code",
   "execution_count": null,
   "id": "5d2626a9",
   "metadata": {},
   "outputs": [],
   "source": [
    "## PON AQUÍ TU CÓDIGO"
   ]
  },
  {
   "cell_type": "markdown",
   "id": "f0b45007",
   "metadata": {},
   "source": [
    "_PON AQUÍ TU RESPUESTA_"
   ]
  },
  {
   "cell_type": "markdown",
   "id": "f5aa4dd7",
   "metadata": {},
   "source": [
    "¿Existen valores nulos o perdidos en el dataset?"
   ]
  },
  {
   "cell_type": "code",
   "execution_count": null,
   "id": "39995616",
   "metadata": {},
   "outputs": [],
   "source": [
    "## PON AQUÍ TU CÓDIGO"
   ]
  },
  {
   "cell_type": "markdown",
   "id": "150e0efd",
   "metadata": {},
   "source": [
    "_PON AQUÍ TU RESPUESTA_"
   ]
  },
  {
   "cell_type": "markdown",
   "id": "625ba0c3",
   "metadata": {},
   "source": [
    "¿Existe alguna variable altamente correlacionada con la variable de clase?"
   ]
  },
  {
   "cell_type": "markdown",
   "id": "f2e38d4e",
   "metadata": {},
   "source": [
    "_Nota: Para responder a esto, como es muy dificil ver la matriz de correlaciones, recomendamosfiltar aquellas correlaciones superiores al 0.80 con la variable de clase."
   ]
  },
  {
   "cell_type": "code",
   "execution_count": null,
   "id": "1d61da96",
   "metadata": {},
   "outputs": [],
   "source": [
    "## PON AQUÍ TU CÓDIGO"
   ]
  },
  {
   "cell_type": "code",
   "execution_count": null,
   "id": "81d392df",
   "metadata": {},
   "outputs": [],
   "source": []
  },
  {
   "cell_type": "markdown",
   "id": "88ed3c79",
   "metadata": {},
   "source": [
    "¿Qué tres variables del dataset consideras que pueden influenciar más en la clasificación de los datos?¿Qué pruebas harías para comprobar tus hipótesis? Hazlas."
   ]
  },
  {
   "cell_type": "markdown",
   "id": "ff908697",
   "metadata": {},
   "source": [
    "_PON AQUÍ TU RESPUESTA_"
   ]
  },
  {
   "cell_type": "code",
   "execution_count": null,
   "id": "e36f156a",
   "metadata": {},
   "outputs": [],
   "source": [
    "# Separamos los datos en los conjuntos de entrenamiento y test.\n",
    "from sklearn.model_selection import train_test_split\n",
    "\n",
    "X, y = df.drop('Cover_Type',axis=1),df['Cover_Type']\n",
    "\n",
    "X_train,X_test,y_train,y_test = train_test_split(X, y, test_size=0.8, random_state=1)"
   ]
  },
  {
   "cell_type": "markdown",
   "id": "253d38fb",
   "metadata": {},
   "source": [
    "### Clasificación"
   ]
  },
  {
   "cell_type": "markdown",
   "id": "18aa2ef3",
   "metadata": {},
   "source": [
    "**Random Forest**\n",
    "\n",
    "En esta parte de la actividad hay que utilizar la librería https://scikit-learn.org/stable/modules/generated/sklearn.ensemble.RandomForestClassifier.html para resolver el problema de clasificación.\n",
    "\n",
    "El algortimo de RF necesitar ajustar una serie de hiperparámetros para realizar las clasificaciones. La implementación de sklearn nos da mucha flexibilidad para nuestros modelos. En general, para los problemas más comunes de clasificación, nos tenemos que preocupar de los siguientes hiperparámetros:\n",
    "- n_estimators\n",
    "- criterion\n",
    "- max_depth\n",
    "- min_samples_split\n",
    "- min_samples_leaf\n",
    "- max_features\n",
    "\n",
    "Indica qué son cada uno de estos hiperparámetros"
   ]
  },
  {
   "cell_type": "markdown",
   "id": "bd1bad91",
   "metadata": {},
   "source": [
    "_indica aquí tu respuesta_"
   ]
  },
  {
   "cell_type": "markdown",
   "id": "4fe96625",
   "metadata": {},
   "source": [
    "Además de los hiperparámetros que acabas de descubrir, la implementación de sklearn tiene el hiperparámetro _class_weight_\n",
    "\n",
    "¿Qué indica ese parámetro? ¿Para qué puede ser útil?"
   ]
  },
  {
   "cell_type": "markdown",
   "id": "1b9ca14f",
   "metadata": {},
   "source": [
    "_indica aquí tu respuesta_"
   ]
  },
  {
   "cell_type": "markdown",
   "id": "6addd9e7",
   "metadata": {},
   "source": [
    "Como primer paso para crear un clasificador de Random Forest hay que decidir si hay que hacer algún preprocesamiento adicional sobre los datos.\n",
    "¿Hace falta normalizar los datos?"
   ]
  },
  {
   "cell_type": "code",
   "execution_count": null,
   "id": "3b753ff5",
   "metadata": {},
   "outputs": [],
   "source": [
    "## PON AQUÍ TU RESPUESTA Y/O CÓDIGO\n"
   ]
  },
  {
   "cell_type": "code",
   "execution_count": null,
   "id": "b6dc73cf",
   "metadata": {},
   "outputs": [],
   "source": []
  },
  {
   "cell_type": "code",
   "execution_count": null,
   "id": "fe496607",
   "metadata": {},
   "outputs": [],
   "source": []
  },
  {
   "cell_type": "markdown",
   "id": "e3465ab1",
   "metadata": {},
   "source": [
    "Entrena un conjunto de modelos de Random Forest que utilicen todas las variables del dataset, con 5, 10, 20, 50 y 100 árboles. El criterio para realizar las particiones debe ser Gini-index, la profundidad máxima de los árboles debe ser 10, el número mínimo de ejemplos para realizar una partición debe ser 10, el número mínimo de ejemplos para considerarlo una hoja debe ser 2, y el número máximo de características deben ser todas.\n",
    "\n",
    "_Nota: el entrenamiento puede tardar entre 3 y 15 minutos en función de las características del equipo._"
   ]
  },
  {
   "cell_type": "code",
   "execution_count": null,
   "id": "8179eb72",
   "metadata": {},
   "outputs": [],
   "source": [
    "# numero de árboles: 5, 10, 20, 50 y 100\n",
    "from sklearn.ensemble import RandomForestClassifier\n",
    "\n",
    "n_arboles = {}\n",
    "particion = \n",
    "max_depth = \n",
    "min_samples_split = \n",
    "min_samples_leaf = \n",
    "max_feature = \n",
    "\n",
    "randomForest = [RandomForestClassifier(n_estimators = i, criterion= particion,\n",
    "                                       max_depth = max_depth, min_samples_split = min_samples_split,\n",
    "                                      min_samples_leaf = min_samples_leaf, max_features =None) for i in n_arboles]\n"
   ]
  },
  {
   "cell_type": "code",
   "execution_count": null,
   "id": "96240675",
   "metadata": {},
   "outputs": [],
   "source": [
    "# PON AQUÍ TU CÓDIGO PARA EL ENTRENAMIENTO"
   ]
  },
  {
   "cell_type": "code",
   "execution_count": null,
   "id": "b5554898",
   "metadata": {},
   "outputs": [],
   "source": []
  },
  {
   "cell_type": "markdown",
   "id": "5898797f",
   "metadata": {},
   "source": [
    "Visualiza la matriz de confusión del modelo entrenado con 20 árboles."
   ]
  },
  {
   "cell_type": "code",
   "execution_count": null,
   "id": "2735dc23",
   "metadata": {},
   "outputs": [],
   "source": [
    "## PON AQUÍ TU CÓDIGO"
   ]
  },
  {
   "cell_type": "code",
   "execution_count": null,
   "id": "fad49946",
   "metadata": {},
   "outputs": [],
   "source": []
  },
  {
   "cell_type": "code",
   "execution_count": null,
   "id": "24076445",
   "metadata": {},
   "outputs": [],
   "source": []
  },
  {
   "cell_type": "code",
   "execution_count": null,
   "id": "3d7991b1",
   "metadata": {},
   "outputs": [],
   "source": []
  },
  {
   "cell_type": "markdown",
   "id": "72ebca94",
   "metadata": {},
   "source": [
    "¿Cuántos ejemplos ha clasificado correctamente?"
   ]
  },
  {
   "cell_type": "markdown",
   "id": "fab58c9a",
   "metadata": {},
   "source": [
    "_PON AQUÍ TU RESPUESTA_"
   ]
  },
  {
   "cell_type": "markdown",
   "id": "472169f2-e1bb-437f-954c-699dbe609341",
   "metadata": {},
   "source": [
    "Explica cómo funciona la clasificación para cada una de las 7 clases. ¿Hay alguna clase que clasifica mejor que otras?"
   ]
  },
  {
   "cell_type": "markdown",
   "id": "65c05b55",
   "metadata": {},
   "source": [
    "¿Cuál de todos los modelos que has entrenado obtiene mejores resultados de precisión para el conjunto de datos de test?\n",
    "\n",
    "_Nota: recuerda que es un modelo de clasificación multiclase y hay que analizar los datos para todas las clases._"
   ]
  },
  {
   "cell_type": "code",
   "execution_count": null,
   "id": "417714b6",
   "metadata": {},
   "outputs": [],
   "source": [
    "## PON AQUÍ TU CÓDIGO Y RESPUESTA"
   ]
  },
  {
   "cell_type": "markdown",
   "id": "6d9a26ef",
   "metadata": {},
   "source": []
  },
  {
   "cell_type": "markdown",
   "id": "4b92ac9e",
   "metadata": {},
   "source": [
    "Selecciona el modelo que consideras que obtiene mejores resultados para los resultados de test. Explica por qué consideras que ese modelo es el que mejor resultados obtiene."
   ]
  },
  {
   "cell_type": "code",
   "execution_count": null,
   "id": "63f0da6a",
   "metadata": {},
   "outputs": [],
   "source": []
  },
  {
   "cell_type": "markdown",
   "id": "c48515df",
   "metadata": {},
   "source": [
    "Visualiza la matriz de confusión de los datos de test de este modelo.\n",
    "- ¿Cuántos ejemplos ha clasificado bien el modelo?\n",
    "- ¿Cuántos ejemplos ha clasificado de manera errónea?\n"
   ]
  },
  {
   "cell_type": "code",
   "execution_count": null,
   "id": "d7fa6b5d",
   "metadata": {},
   "outputs": [],
   "source": []
  },
  {
   "cell_type": "markdown",
   "id": "9c4466e7",
   "metadata": {},
   "source": [
    "Visualiza los valores de precision, recall, f1 para cada una de las clases. \n",
    "- ¿Clasifica de igual manera todas las clases o hay alguna para la que el modelo tiene una mayor capacidad predictiva?"
   ]
  },
  {
   "cell_type": "code",
   "execution_count": null,
   "id": "bed193fc",
   "metadata": {},
   "outputs": [],
   "source": [
    "### PON AQUÍ TU CÓDIGO E INDICA TU RESPUESTA"
   ]
  },
  {
   "cell_type": "markdown",
   "id": "5fec7fc6",
   "metadata": {},
   "source": [
    "**Support Vector Machine**"
   ]
  },
  {
   "cell_type": "code",
   "execution_count": null,
   "id": "a40cce61",
   "metadata": {},
   "outputs": [],
   "source": [
    "# Importamos las librerías para utilizar las máquinas de vector de soportes.\n",
    "# Utilizaremos la librería svm:\n",
    "\n",
    "from sklearn import svm\n",
    "\n",
    "#Cargamos también las librerías para hacer la matriz de confusión y la cross validation:\n",
    "\n",
    "from sklearn import metrics\n",
    "from sklearn.metrics import confusion_matrix\n",
    "from sklearn.model_selection import cross_val_score\n",
    "from sklearn.model_selection import cross_val_predict\n",
    "from sklearn.model_selection import KFold"
   ]
  },
  {
   "cell_type": "markdown",
   "id": "fb3e9db2",
   "metadata": {},
   "source": [
    "Para la implementación del modelo de clasificación de SVM usaremos la clase Support Vector Classifier de sklearn, https://scikit-learn.org/stable/modules/generated/sklearn.svm.SVC.html#sklearn.svm.SVC\n",
    "\n",
    "El algoritmo de SVM necesita ajustar una serie de hiperparámetros para realizar las clasificaciones. La implementación de sklearn nos da mucha flexibilidad para nuestros modelos. En general, para los problemas más comunes de clasificación, nos tenemos que preocupar de los siguientes hiperparámetros:\n",
    "- C\n",
    "- kernel\n",
    "- degree\n",
    "- gamma\n",
    "\n",
    "Indica qué son cada uno de estos hiperparámetros"
   ]
  },
  {
   "cell_type": "markdown",
   "id": "56cfc868",
   "metadata": {},
   "source": [
    "_indica aquí tu respuesta_"
   ]
  },
  {
   "cell_type": "markdown",
   "id": "d8602f42",
   "metadata": {},
   "source": [
    "Además de los hiperparámetros que acabas de descubrir, la implementación de sklearn tiene el hiperparámetro decision_function_shape\n",
    "\n",
    "¿Qué indica ese parámetro? ¿Para qué puede ser útil?"
   ]
  },
  {
   "cell_type": "markdown",
   "id": "3ed9711c",
   "metadata": {},
   "source": [
    "_indica aquí tu respuesta_"
   ]
  },
  {
   "cell_type": "markdown",
   "id": "4c6c62e3-fb4a-450a-8f02-78c15827e995",
   "metadata": {},
   "source": [
    "Tenemos un dataset de más de medio millón de instancias, y para el objetivo de la actividad no hacen falta tantas. Por eso, antes de aplicar SVM vamos a reducir el número de instancias. SVM requiere una gran carga computacional y con ese volumen de instancias el tiempo requerido sería demasiado elevado."
   ]
  },
  {
   "cell_type": "code",
   "execution_count": null,
   "id": "0c2eda09-2d5a-4c65-97d6-ee2e42dd7927",
   "metadata": {},
   "outputs": [],
   "source": [
    "df = df.head(100000)"
   ]
  },
  {
   "cell_type": "markdown",
   "id": "34b0776e-c261-4ce3-805a-7aea13356b39",
   "metadata": {},
   "source": [
    "Nota: recuerda revisar que esta manera de seleccionar un subconjunto de instancias no altera la clase objetivo. Deberías tener un porcentaje similar de instancias de cada clase. Si no fuera así, deberás cambiar la manera de seleccionar el subconjunto."
   ]
  },
  {
   "cell_type": "code",
   "execution_count": null,
   "id": "66ea4833-4b85-4dc7-9346-12bed09d1104",
   "metadata": {},
   "outputs": [],
   "source": [
    "df['Cover_Type'].value_counts().plot(kind='pie',autopct='%.2f',)\n",
    "plt.show()"
   ]
  },
  {
   "cell_type": "code",
   "execution_count": null,
   "id": "8701f7a1-9112-4c27-88e7-2c105f90f048",
   "metadata": {},
   "outputs": [],
   "source": [
    "# Con el nuevo número de instancias, separamos los datos en los conjuntos de entrenamiento y test.\n",
    "from sklearn.model_selection import train_test_split\n",
    "\n",
    "X, y = df.drop('Cover_Type',axis=1),df['Cover_Type']\n",
    "\n",
    "X_train,X_test,y_train,y_test = train_test_split(X, y, test_size=0.8, random_state=1)\n"
   ]
  },
  {
   "cell_type": "markdown",
   "id": "155f3ed0",
   "metadata": {},
   "source": [
    "Como primer paso para crear un clasificador de SVM hay que decidir si hay que hacer algún preprocesamiento adicional sobre los datos. ¿Hace falta normalizar los datos?"
   ]
  },
  {
   "cell_type": "code",
   "execution_count": null,
   "id": "1fa219b7",
   "metadata": {},
   "outputs": [],
   "source": [
    "## PON AQUÍ TU CÓDIGO SI CONSIDERAS QUE HAY QUE NORMALIZAR LOS DATOS\n",
    "\n",
    "from sklearn.preprocessing import StandardScaler\n",
    "from pandas import DataFrame\n",
    "\n",
    "\n",
    "scaler = StandardScaler()\n",
    "\n",
    "## COMPLETAR"
   ]
  },
  {
   "cell_type": "markdown",
   "id": "f773c8f8",
   "metadata": {},
   "source": [
    "Entrena un conjunto de modelos de SVM que utilicen todas las variables del dataset, con C = 0.1 hasta 1000 con cinco valores diferentes; kernel radial, y gamma con valor scale."
   ]
  },
  {
   "cell_type": "code",
   "execution_count": null,
   "id": "3af670f1",
   "metadata": {},
   "outputs": [],
   "source": [
    "from sklearn.svm import SVC\n",
    "\n",
    "C = {}\n",
    "kernel = ''\n",
    "gamma = ''\n",
    "\n",
    "svc = [SVC(C=i, kernel=kernel, gamma=gamma) for i in C]\n",
    "svc"
   ]
  },
  {
   "cell_type": "code",
   "execution_count": null,
   "id": "0e666ae3-b5ff-41bb-a416-aa3838b5db89",
   "metadata": {},
   "outputs": [],
   "source": []
  },
  {
   "cell_type": "code",
   "execution_count": null,
   "id": "cbe6a128",
   "metadata": {},
   "outputs": [],
   "source": []
  },
  {
   "cell_type": "code",
   "execution_count": null,
   "id": "cb57575c",
   "metadata": {},
   "outputs": [],
   "source": [
    "### PON AQUÍ TU CÓDIGO"
   ]
  },
  {
   "cell_type": "code",
   "execution_count": null,
   "id": "9bfd412a",
   "metadata": {},
   "outputs": [],
   "source": [
    "score"
   ]
  },
  {
   "cell_type": "code",
   "execution_count": null,
   "id": "e4c2ac9c-6411-43f4-82f5-d5ca45d336aa",
   "metadata": {},
   "outputs": [],
   "source": []
  },
  {
   "cell_type": "markdown",
   "id": "0ffaa64a",
   "metadata": {},
   "source": [
    "Después de hacer el entrenamiento, visualiza las matrices de confusión de los modelos entrenados."
   ]
  },
  {
   "cell_type": "code",
   "execution_count": null,
   "id": "589d3eb4",
   "metadata": {},
   "outputs": [],
   "source": [
    "## PON AQUÍ TU CÓDIGO"
   ]
  },
  {
   "cell_type": "markdown",
   "id": "d04ad53c",
   "metadata": {},
   "source": [
    "¿Cuántos ejemplos ha clasificado correctamente cada uno de los modelos?"
   ]
  },
  {
   "cell_type": "markdown",
   "id": "8d46849d",
   "metadata": {},
   "source": [
    "_indica aquí tu respuesta_"
   ]
  },
  {
   "cell_type": "markdown",
   "id": "6ddb9cf9",
   "metadata": {},
   "source": [
    "¿Cuál de todos los modelos que has entrenado obtiene mejores resultados de precision para todas las clases? Si no hay ninguno que consideres que sea óptimo, explica cómo se comporta para cada clase el modelo que consideres que tiene mejores resultados."
   ]
  },
  {
   "cell_type": "code",
   "execution_count": null,
   "id": "1278fd97",
   "metadata": {},
   "outputs": [],
   "source": [
    "## PON AQUÍ TU CÓDIGO"
   ]
  },
  {
   "cell_type": "markdown",
   "id": "ed4bd6a8",
   "metadata": {},
   "source": [
    "_indica aquí tu respuesta_"
   ]
  },
  {
   "cell_type": "markdown",
   "id": "24bd428f",
   "metadata": {},
   "source": [
    "Selecciona el modelo que consideras que obtiene mejores resultados y realiza las predicciones con el conjunto de datos de test."
   ]
  },
  {
   "cell_type": "code",
   "execution_count": null,
   "id": "5eef52fa",
   "metadata": {},
   "outputs": [],
   "source": [
    "## PON AQUÍ TU CÓDIGO"
   ]
  },
  {
   "cell_type": "markdown",
   "id": "1156e32d",
   "metadata": {},
   "source": [
    "Visualiza la matriz de confusión de los datos de test.\n",
    "- ¿Cuántos ejemplos ha clasificado bien el modelo?\n",
    "- ¿Cuántos ejemplos ha clasificado de manera errónea?"
   ]
  },
  {
   "cell_type": "code",
   "execution_count": null,
   "id": "0f6e0a04",
   "metadata": {},
   "outputs": [],
   "source": [
    "### PON AQUÍ TU CÓDIGO E INDICA TU RESPUESTA"
   ]
  },
  {
   "cell_type": "markdown",
   "id": "b08b873b",
   "metadata": {},
   "source": [
    "Visualiza los valores de precision, recall, f1 para cada una de las clases. \n",
    "- ¿Clasifica de igual manera todas las clases o hay alguna para la que el modelo tiene una mayor capacidad predictiva?"
   ]
  },
  {
   "cell_type": "code",
   "execution_count": null,
   "id": "61426541",
   "metadata": {},
   "outputs": [],
   "source": [
    "### PON AQUÍ TU CÓDIGO E INDICA TU RESPUESTA"
   ]
  },
  {
   "cell_type": "markdown",
   "id": "c0629d8f",
   "metadata": {},
   "source": [
    "**Comparativa**\n",
    "\n",
    "En base al EDA realizado, a las decisiones tomadas sobre los datos e hiperparámetros y a las características computacionales de tu equipo. ¿Qué modelo obtiene mejores resultados de clasificación?"
   ]
  },
  {
   "cell_type": "markdown",
   "id": "2d756202",
   "metadata": {},
   "source": [
    "### Investigación\n",
    "\n",
    "Buscar un artículo científico (https://scholar.google.es/) con un caso de uso de clasificación empleando una de las dos técnicas (o ambas) vistas en la actividad. Los artículos deben estar en revistas científicas, y deben ser posteriores a 2015. No debe utilizar técnicas de Deep Learning."
   ]
  },
  {
   "cell_type": "markdown",
   "id": "5da25f3b",
   "metadata": {},
   "source": [
    "_introduce aquí la referencia APA del artículo_\n",
    "\n",
    "título, autores, revista, año de publicación\n",
    "\n",
    "Objetivo: cuál es el objetivo de la investigación, es decir a qué problema real está aplicando la clasificación.\n",
    "Técnicas de clasificación empleadas y si realiza alguna adaptación.\n",
    "Principales resultados de la aplicación y de la investigación."
   ]
  }
 ],
 "metadata": {
  "kernelspec": {
   "display_name": "Python 3 (ipykernel)",
   "language": "python",
   "name": "python3"
  },
  "language_info": {
   "codemirror_mode": {
    "name": "ipython",
    "version": 3
   },
   "file_extension": ".py",
   "mimetype": "text/x-python",
   "name": "python",
   "nbconvert_exporter": "python",
   "pygments_lexer": "ipython3",
   "version": "3.8.18"
  }
 },
 "nbformat": 4,
 "nbformat_minor": 5
}
