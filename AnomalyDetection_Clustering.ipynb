{
 "cells": [
  {
   "attachments": {
    "image-2.png": {
     "image/png": "[encoded data removed]"
    }
   },
   "cell_type": "markdown",
   "id": "8f953f73",
   "metadata": {},
   "source": [
    "![image-2.png](attachment:image-2.png)\n",
    "_Aprendizaje Automático_\n",
    "\n",
    "_Máster Universitario en Inteligencia Artificial_\n",
    "\n",
    "# Caso grupal: Detección de anomalías y técnicas de agrupamiento\n",
    "\n",
    "## Objetivos\n",
    "\n",
    "- Entender el método de clustering K-means.\n",
    "- Generar agrupamientos con los métodos de clustering indicados y realizar una comparativa de ambos.\n",
    "- Investigar sobre una técnica de detección de anomalías con un caso de uso concreto.\n",
    "\n",
    "\n",
    "## Descripción de la actividad\n",
    "\n",
    "El conjunto de datos con el cual vamos a trabajar se encuentra en el siguiente enlace http://archive.ics.uci.edu/ml/datasets/Individual+household+electric+power+consumption \n",
    "\n",
    "Se trata de un dataset que contiene mediciones del consumo de energía eléctrica en un hogar con una tasa de muestreo de un minuto durante un período de casi 4 años. Están disponibles diferentes magnitudes eléctricas y algunos valores de submedición. Debe descargarse el fichero comprimido que se encuentra en la carpeta 'Data Folder'.\n",
    "\n",
    "### Tareas que se deben realizar\n",
    "- Clustering\n",
    "  - Debes completar el código pedido en este notebook y contestar las preguntas finales.\n",
    "- Detección de anomalías\n",
    "  - Buscar dos artículos científicos (https://scholar.google.es/) con un caso de uso de detección de anomalías. Los artículos deben estar en revistas científicas, y deben ser posteriores a 2015. No debe utilizar técnicas de Deep Learning.\n",
    "  - Para cada artículo indicar:\n",
    "    - Objetivo: cuál es el objetivo de la investigación, es decir a qué problema real está aplicando la detección de anomalías.\n",
    "    - Técnicas de detección de anomalías empleadas.\n",
    "    - Principales resultados de la aplicación y de la investigación.\n"
   ]
  },
  {
   "cell_type": "markdown",
   "id": "46d3c173",
   "metadata": {},
   "source": [
    "### Clustering\n",
    "\n",
    "Comenzamos importando las librerías necesarias y cargando el dataset."
   ]
  },
  {
   "cell_type": "code",
   "execution_count": 1,
   "id": "0b5d68d4",
   "metadata": {},
   "outputs": [],
   "source": [
    "import numpy as np\n",
    "import pandas as pd\n",
    "from matplotlib import pyplot as plt\n",
    "import seaborn as sns\n",
    "plt.style.use('seaborn-v0_8')\n",
    "\n",
    "# se carga el dataset, con separados ;, se transforman las dos columnas Date y Time a una única columna con tipo datetime\n",
    "# en el fichero CSV existen NaN identificados por ?\n",
    "df = pd.read_csv('household_power_consumption.txt', sep=';',\n",
    "                        parse_dates={'dt' : ['Date', 'Time']}, \n",
    "                        infer_datetime_format=True,low_memory=False,\n",
    "                        na_values=['nan','?'])"
   ]
  },
  {
   "cell_type": "code",
   "execution_count": 2,
   "id": "3adfca08",
   "metadata": {},
   "outputs": [],
   "source": [
    "## cuántas instancias tiene el dataset"
   ]
  },
  {
   "cell_type": "code",
   "execution_count": 3,
   "id": "38db287b",
   "metadata": {},
   "outputs": [
    {
     "name": "stdout",
     "output_type": "stream",
     "text": [
      "El número de instancias del dataset es:  2075259\n"
     ]
    }
   ],
   "source": [
    "### PON AQUÍ TU CÓDIGO\n",
    "print ('El número de instancias del dataset es: ', df.shape[0])"
   ]
  },
  {
   "cell_type": "code",
   "execution_count": 4,
   "id": "713a7dc1",
   "metadata": {},
   "outputs": [],
   "source": [
    "## cuál es el tipo de datos de la variable 'Voltage'."
   ]
  },
  {
   "cell_type": "code",
   "execution_count": 5,
   "id": "2e265355",
   "metadata": {},
   "outputs": [
    {
     "data": {
      "text/plain": [
       "dtype('float64')"
      ]
     },
     "execution_count": 5,
     "metadata": {},
     "output_type": "execute_result"
    }
   ],
   "source": [
    "### PON AQUÍ TU CÓDIGO\n",
    "df['Voltage'].dtype"
   ]
  },
  {
   "cell_type": "markdown",
   "id": "0ccb8724",
   "metadata": {},
   "source": [
    "La variable 'Voltage' es una variable de tipo real, float64."
   ]
  },
  {
   "cell_type": "code",
   "execution_count": 6,
   "id": "39baeb18",
   "metadata": {},
   "outputs": [],
   "source": [
    "## ¿es una variable continua o categórica?"
   ]
  },
  {
   "cell_type": "markdown",
   "id": "8894fb1a",
   "metadata": {},
   "source": [
    "Es una variable **contínua**."
   ]
  },
  {
   "cell_type": "code",
   "execution_count": null,
   "id": "b683959b",
   "metadata": {},
   "outputs": [],
   "source": []
  },
  {
   "cell_type": "code",
   "execution_count": 7,
   "id": "10ae23e5",
   "metadata": {},
   "outputs": [],
   "source": [
    "# ¿cuáles son los valores mínimo y máximo de la variable 'Voltage'?"
   ]
  },
  {
   "cell_type": "code",
   "execution_count": 8,
   "id": "65520a6a",
   "metadata": {},
   "outputs": [
    {
     "name": "stdout",
     "output_type": "stream",
     "text": [
      "254.15 223.2\n"
     ]
    }
   ],
   "source": [
    "### PON AQUÍ TU CÓDIGO\n",
    "print(df['Voltage'].max(), df['Voltage'].min())"
   ]
  },
  {
   "cell_type": "markdown",
   "id": "c0cf828e",
   "metadata": {},
   "source": [
    "El máximo es **254.15** y el mínimo **223.2**"
   ]
  },
  {
   "cell_type": "code",
   "execution_count": 9,
   "id": "39f951e4",
   "metadata": {},
   "outputs": [],
   "source": [
    "# ¿existe alguna variable con más del 30% de valores faltantes?"
   ]
  },
  {
   "cell_type": "code",
   "execution_count": 10,
   "id": "09dbd797",
   "metadata": {},
   "outputs": [
    {
     "name": "stdout",
     "output_type": "stream",
     "text": [
      "La variable dt  tiene un  0.0 % de valores faltantes\n",
      "La variable Global_active_power  tiene un  1.2518437457686005 % de valores faltantes\n",
      "La variable Global_reactive_power  tiene un  1.2518437457686005 % de valores faltantes\n",
      "La variable Voltage  tiene un  1.2518437457686005 % de valores faltantes\n",
      "La variable Global_intensity  tiene un  1.2518437457686005 % de valores faltantes\n",
      "La variable Sub_metering_1  tiene un  1.2518437457686005 % de valores faltantes\n",
      "La variable Sub_metering_2  tiene un  1.2518437457686005 % de valores faltantes\n",
      "La variable Sub_metering_3  tiene un  1.2518437457686005 % de valores faltantes\n"
     ]
    }
   ],
   "source": [
    "## PON AQUÍ TU CÓDIGO\n",
    "\n",
    "for i in df.columns:\n",
    "    faltantes = df[i].isnull().sum()\n",
    "    porcentaje = faltantes/len(df[i])*100\n",
    "    print(\"La variable\", str(i), \" tiene un \", porcentaje,\"% de valores faltantes\")"
   ]
  },
  {
   "cell_type": "markdown",
   "id": "c3f0d414",
   "metadata": {},
   "source": [
    "Se puede observar que hay un **1.252%** de valores faltantes (con observación del dataset se puede ver que cuando existen 'faltantes' faltan en toda la instancia salvo en date and time)\n",
    "\n",
    "Ninguna variable tiene más de un 30% de valores faltantes."
   ]
  },
  {
   "cell_type": "code",
   "execution_count": 11,
   "id": "5e0a56c4",
   "metadata": {},
   "outputs": [],
   "source": [
    "# ¿cuántas variables categóricas hay en el dataset? "
   ]
  },
  {
   "cell_type": "code",
   "execution_count": 12,
   "id": "7c1a9a3d",
   "metadata": {},
   "outputs": [
    {
     "data": {
      "text/plain": [
       "dt                       datetime64[ns]\n",
       "Global_active_power             float64\n",
       "Global_reactive_power           float64\n",
       "Voltage                         float64\n",
       "Global_intensity                float64\n",
       "Sub_metering_1                  float64\n",
       "Sub_metering_2                  float64\n",
       "Sub_metering_3                  float64\n",
       "dtype: object"
      ]
     },
     "execution_count": 12,
     "metadata": {},
     "output_type": "execute_result"
    }
   ],
   "source": [
    "### PON AQUÍ TU CÓDIGO\n",
    "df.dtypes"
   ]
  },
  {
   "cell_type": "markdown",
   "id": "b908ec3d",
   "metadata": {},
   "source": [
    "Todas las variables excepto la variable _dt_ (fecha), que es de tipo datetime, son **continuas**. También en la definición del dataset se aprecia que los valores son contínuos."
   ]
  },
  {
   "cell_type": "markdown",
   "id": "8db8b4d7",
   "metadata": {},
   "source": [
    "Para los algoritmos de clustering el dataset no puede tener instancias con datos faltantes. ¿Tiene este dataset datos faltantes?"
   ]
  },
  {
   "cell_type": "code",
   "execution_count": 13,
   "id": "a862f980",
   "metadata": {},
   "outputs": [
    {
     "data": {
      "text/plain": [
       "dt                           0\n",
       "Global_active_power      25979\n",
       "Global_reactive_power    25979\n",
       "Voltage                  25979\n",
       "Global_intensity         25979\n",
       "Sub_metering_1           25979\n",
       "Sub_metering_2           25979\n",
       "Sub_metering_3           25979\n",
       "dtype: int64"
      ]
     },
     "execution_count": 13,
     "metadata": {},
     "output_type": "execute_result"
    }
   ],
   "source": [
    "### PON AQUÍ TU CÓDIGO\n",
    "df.isnull().sum()"
   ]
  },
  {
   "cell_type": "markdown",
   "id": "afa89aff",
   "metadata": {},
   "source": [
    "Para cada variable hay **25979** valores faltantes, a excepto de la variable _dt_ (fecha) que no tiene ningún valor faltante."
   ]
  },
  {
   "cell_type": "markdown",
   "id": "d051978b",
   "metadata": {},
   "source": [
    "Existen diferentes alternativas para completar los datos faltantes, algunas de ellas las hemos estudiado en la asignatura.\n",
    "Sin embargo, en esta actividad vamos a prescindir de estos datos."
   ]
  },
  {
   "cell_type": "code",
   "execution_count": 14,
   "id": "034f0326",
   "metadata": {},
   "outputs": [
    {
     "data": {
      "text/plain": [
       "dt                       0\n",
       "Global_active_power      0\n",
       "Global_reactive_power    0\n",
       "Voltage                  0\n",
       "Global_intensity         0\n",
       "Sub_metering_1           0\n",
       "Sub_metering_2           0\n",
       "Sub_metering_3           0\n",
       "dtype: int64"
      ]
     },
     "execution_count": 14,
     "metadata": {},
     "output_type": "execute_result"
    }
   ],
   "source": [
    "df.dropna(inplace=True)\n",
    "\n",
    "#Verificamos que no haya datos faltantes\n",
    "\n",
    "df.isna().sum()\n"
   ]
  },
  {
   "cell_type": "code",
   "execution_count": 15,
   "id": "a6d28693",
   "metadata": {},
   "outputs": [],
   "source": [
    "# Calcula las correlaciones de Pearson de las variables"
   ]
  },
  {
   "cell_type": "code",
   "execution_count": 16,
   "id": "14a92b72",
   "metadata": {},
   "outputs": [
    {
     "name": "stderr",
     "output_type": "stream",
     "text": [
      "C:\\Users\\PC\\AppData\\Local\\Temp\\ipykernel_2068\\232807118.py:2: FutureWarning: The default value of numeric_only in DataFrame.corr is deprecated. In a future version, it will default to False. Select only valid columns or specify the value of numeric_only to silence this warning.\n",
      "  correlaciones = df.corr()\n"
     ]
    },
    {
     "data": {
      "image/png": "[encoded data removed]",
      "text/plain": [
       "<Figure size 1000x800 with 2 Axes>"
      ]
     },
     "metadata": {},
     "output_type": "display_data"
    },
    {
     "data": {
      "text/html": [
       "<div>\n",
       "<style scoped>\n",
       "    .dataframe tbody tr th:only-of-type {\n",
       "        vertical-align: middle;\n",
       "    }\n",
       "\n",
       "    .dataframe tbody tr th {\n",
       "        vertical-align: top;\n",
       "    }\n",
       "\n",
       "    .dataframe thead th {\n",
       "        text-align: right;\n",
       "    }\n",
       "</style>\n",
       "<table border=\"1\" class=\"dataframe\">\n",
       "  <thead>\n",
       "    <tr style=\"text-align: right;\">\n",
       "      <th></th>\n",
       "      <th>Global_active_power</th>\n",
       "      <th>Global_reactive_power</th>\n",
       "      <th>Voltage</th>\n",
       "      <th>Global_intensity</th>\n",
       "      <th>Sub_metering_1</th>\n",
       "      <th>Sub_metering_2</th>\n",
       "      <th>Sub_metering_3</th>\n",
       "    </tr>\n",
       "  </thead>\n",
       "  <tbody>\n",
       "    <tr>\n",
       "      <th>Global_active_power</th>\n",
       "      <td>1.000000</td>\n",
       "      <td>0.247017</td>\n",
       "      <td>-0.399762</td>\n",
       "      <td>0.998889</td>\n",
       "      <td>0.484401</td>\n",
       "      <td>0.434569</td>\n",
       "      <td>0.638555</td>\n",
       "    </tr>\n",
       "    <tr>\n",
       "      <th>Global_reactive_power</th>\n",
       "      <td>0.247017</td>\n",
       "      <td>1.000000</td>\n",
       "      <td>-0.112246</td>\n",
       "      <td>0.266120</td>\n",
       "      <td>0.123111</td>\n",
       "      <td>0.139231</td>\n",
       "      <td>0.089617</td>\n",
       "    </tr>\n",
       "    <tr>\n",
       "      <th>Voltage</th>\n",
       "      <td>-0.399762</td>\n",
       "      <td>-0.112246</td>\n",
       "      <td>1.000000</td>\n",
       "      <td>-0.411363</td>\n",
       "      <td>-0.195976</td>\n",
       "      <td>-0.167405</td>\n",
       "      <td>-0.268172</td>\n",
       "    </tr>\n",
       "    <tr>\n",
       "      <th>Global_intensity</th>\n",
       "      <td>0.998889</td>\n",
       "      <td>0.266120</td>\n",
       "      <td>-0.411363</td>\n",
       "      <td>1.000000</td>\n",
       "      <td>0.489298</td>\n",
       "      <td>0.440347</td>\n",
       "      <td>0.626543</td>\n",
       "    </tr>\n",
       "    <tr>\n",
       "      <th>Sub_metering_1</th>\n",
       "      <td>0.484401</td>\n",
       "      <td>0.123111</td>\n",
       "      <td>-0.195976</td>\n",
       "      <td>0.489298</td>\n",
       "      <td>1.000000</td>\n",
       "      <td>0.054721</td>\n",
       "      <td>0.102571</td>\n",
       "    </tr>\n",
       "    <tr>\n",
       "      <th>Sub_metering_2</th>\n",
       "      <td>0.434569</td>\n",
       "      <td>0.139231</td>\n",
       "      <td>-0.167405</td>\n",
       "      <td>0.440347</td>\n",
       "      <td>0.054721</td>\n",
       "      <td>1.000000</td>\n",
       "      <td>0.080872</td>\n",
       "    </tr>\n",
       "    <tr>\n",
       "      <th>Sub_metering_3</th>\n",
       "      <td>0.638555</td>\n",
       "      <td>0.089617</td>\n",
       "      <td>-0.268172</td>\n",
       "      <td>0.626543</td>\n",
       "      <td>0.102571</td>\n",
       "      <td>0.080872</td>\n",
       "      <td>1.000000</td>\n",
       "    </tr>\n",
       "  </tbody>\n",
       "</table>\n",
       "</div>"
      ],
      "text/plain": [
       "                       Global_active_power  Global_reactive_power   Voltage  \\\n",
       "Global_active_power               1.000000               0.247017 -0.399762   \n",
       "Global_reactive_power             0.247017               1.000000 -0.112246   \n",
       "Voltage                          -0.399762              -0.112246  1.000000   \n",
       "Global_intensity                  0.998889               0.266120 -0.411363   \n",
       "Sub_metering_1                    0.484401               0.123111 -0.195976   \n",
       "Sub_metering_2                    0.434569               0.139231 -0.167405   \n",
       "Sub_metering_3                    0.638555               0.089617 -0.268172   \n",
       "\n",
       "                       Global_intensity  Sub_metering_1  Sub_metering_2  \\\n",
       "Global_active_power            0.998889        0.484401        0.434569   \n",
       "Global_reactive_power          0.266120        0.123111        0.139231   \n",
       "Voltage                       -0.411363       -0.195976       -0.167405   \n",
       "Global_intensity               1.000000        0.489298        0.440347   \n",
       "Sub_metering_1                 0.489298        1.000000        0.054721   \n",
       "Sub_metering_2                 0.440347        0.054721        1.000000   \n",
       "Sub_metering_3                 0.626543        0.102571        0.080872   \n",
       "\n",
       "                       Sub_metering_3  \n",
       "Global_active_power          0.638555  \n",
       "Global_reactive_power        0.089617  \n",
       "Voltage                     -0.268172  \n",
       "Global_intensity             0.626543  \n",
       "Sub_metering_1               0.102571  \n",
       "Sub_metering_2               0.080872  \n",
       "Sub_metering_3               1.000000  "
      ]
     },
     "execution_count": 16,
     "metadata": {},
     "output_type": "execute_result"
    }
   ],
   "source": [
    "### PON AQUÍ TU CÓDIGO\n",
    "correlaciones = df.corr()\n",
    "\n",
    "plt.figure(figsize=(10, 8))\n",
    "sns.heatmap(correlaciones, annot=True, cmap='coolwarm', fmt=\".3f\")\n",
    "plt.title('Mapa de Calor de Correlaciones de Pearson')\n",
    "plt.show()\n",
    "\n",
    "correlaciones"
   ]
  },
  {
   "cell_type": "markdown",
   "id": "1a804b45",
   "metadata": {},
   "source": [
    "¿Cuál es la variable que tiene mayor correlación con 'Global_active_power'? ¿Son variables dependientes o independientes?"
   ]
  },
  {
   "cell_type": "markdown",
   "id": "9e5eb52d",
   "metadata": {},
   "source": [
    "La variable con mayor correlación con _'Global_active_power'_ es **Global_intensity** con una correlación de 0.999. Lo que indica que ambas variables son prácticamente iguales y se podría prescindir de una de ellas ya que la información que aportarían sería practicamente la misma información para formar los clústers."
   ]
  },
  {
   "cell_type": "markdown",
   "id": "eb8b2b8a",
   "metadata": {},
   "source": [
    "¿Podemos eliminar alguna variable?"
   ]
  },
  {
   "cell_type": "markdown",
   "id": "ae8a1b96",
   "metadata": {},
   "source": [
    "Como se ha mencionado anteriormente, se puede prescindir de la variable de Global_intensity."
   ]
  },
  {
   "cell_type": "code",
   "execution_count": 17,
   "id": "4d15480d",
   "metadata": {},
   "outputs": [],
   "source": [
    "# eliminamos variable dt\n",
    "df = df.drop(columns='dt')\n",
    "df = df.drop(columns='Global_intensity')"
   ]
  },
  {
   "cell_type": "markdown",
   "id": "698102f8",
   "metadata": {},
   "source": [
    "¿Es necesario hacer algún tratamiendo adicional sobre los datos?"
   ]
  },
  {
   "cell_type": "markdown",
   "id": "b9d1b9b0",
   "metadata": {},
   "source": [
    "Se van a normalizar los datos para eliminar el sesgo hacia variables de mayor escala, mejora la convergencia del algoritmo y evitar la dominancia de ciertas características."
   ]
  },
  {
   "cell_type": "code",
   "execution_count": 18,
   "id": "d19ad500",
   "metadata": {},
   "outputs": [
    {
     "data": {
      "text/html": [
       "<div>\n",
       "<style scoped>\n",
       "    .dataframe tbody tr th:only-of-type {\n",
       "        vertical-align: middle;\n",
       "    }\n",
       "\n",
       "    .dataframe tbody tr th {\n",
       "        vertical-align: top;\n",
       "    }\n",
       "\n",
       "    .dataframe thead th {\n",
       "        text-align: right;\n",
       "    }\n",
       "</style>\n",
       "<table border=\"1\" class=\"dataframe\">\n",
       "  <thead>\n",
       "    <tr style=\"text-align: right;\">\n",
       "      <th></th>\n",
       "      <th>Global_active_power</th>\n",
       "      <th>Global_reactive_power</th>\n",
       "      <th>Voltage</th>\n",
       "      <th>Sub_metering_1</th>\n",
       "      <th>Sub_metering_2</th>\n",
       "      <th>Sub_metering_3</th>\n",
       "    </tr>\n",
       "  </thead>\n",
       "  <tbody>\n",
       "    <tr>\n",
       "      <th>0</th>\n",
       "      <td>2.955077</td>\n",
       "      <td>2.610721</td>\n",
       "      <td>-1.851816</td>\n",
       "      <td>-0.182337</td>\n",
       "      <td>-0.051274</td>\n",
       "      <td>1.249421</td>\n",
       "    </tr>\n",
       "    <tr>\n",
       "      <th>1</th>\n",
       "      <td>4.037085</td>\n",
       "      <td>2.770406</td>\n",
       "      <td>-2.225274</td>\n",
       "      <td>-0.182337</td>\n",
       "      <td>-0.051274</td>\n",
       "      <td>1.130897</td>\n",
       "    </tr>\n",
       "    <tr>\n",
       "      <th>2</th>\n",
       "      <td>4.050326</td>\n",
       "      <td>3.320432</td>\n",
       "      <td>-2.330213</td>\n",
       "      <td>-0.182337</td>\n",
       "      <td>0.120487</td>\n",
       "      <td>1.249421</td>\n",
       "    </tr>\n",
       "    <tr>\n",
       "      <th>3</th>\n",
       "      <td>4.063567</td>\n",
       "      <td>3.355917</td>\n",
       "      <td>-2.191324</td>\n",
       "      <td>-0.182337</td>\n",
       "      <td>-0.051274</td>\n",
       "      <td>1.249421</td>\n",
       "    </tr>\n",
       "    <tr>\n",
       "      <th>4</th>\n",
       "      <td>2.434881</td>\n",
       "      <td>3.586573</td>\n",
       "      <td>-1.592556</td>\n",
       "      <td>-0.182337</td>\n",
       "      <td>-0.051274</td>\n",
       "      <td>1.249421</td>\n",
       "    </tr>\n",
       "    <tr>\n",
       "      <th>...</th>\n",
       "      <td>...</td>\n",
       "      <td>...</td>\n",
       "      <td>...</td>\n",
       "      <td>...</td>\n",
       "      <td>...</td>\n",
       "      <td>...</td>\n",
       "    </tr>\n",
       "    <tr>\n",
       "      <th>2049275</th>\n",
       "      <td>-0.137724</td>\n",
       "      <td>-1.097519</td>\n",
       "      <td>-0.126500</td>\n",
       "      <td>-0.182337</td>\n",
       "      <td>-0.223036</td>\n",
       "      <td>-0.765477</td>\n",
       "    </tr>\n",
       "    <tr>\n",
       "      <th>2049276</th>\n",
       "      <td>-0.139616</td>\n",
       "      <td>-1.097519</td>\n",
       "      <td>-0.259217</td>\n",
       "      <td>-0.182337</td>\n",
       "      <td>-0.223036</td>\n",
       "      <td>-0.765477</td>\n",
       "    </tr>\n",
       "    <tr>\n",
       "      <th>2049277</th>\n",
       "      <td>-0.145291</td>\n",
       "      <td>-1.097519</td>\n",
       "      <td>-0.314772</td>\n",
       "      <td>-0.182337</td>\n",
       "      <td>-0.223036</td>\n",
       "      <td>-0.765477</td>\n",
       "    </tr>\n",
       "    <tr>\n",
       "      <th>2049278</th>\n",
       "      <td>-0.149074</td>\n",
       "      <td>-1.097519</td>\n",
       "      <td>-0.351810</td>\n",
       "      <td>-0.182337</td>\n",
       "      <td>-0.223036</td>\n",
       "      <td>-0.765477</td>\n",
       "    </tr>\n",
       "    <tr>\n",
       "      <th>2049279</th>\n",
       "      <td>-0.150966</td>\n",
       "      <td>-1.097519</td>\n",
       "      <td>-0.398106</td>\n",
       "      <td>-0.182337</td>\n",
       "      <td>-0.223036</td>\n",
       "      <td>-0.765477</td>\n",
       "    </tr>\n",
       "  </tbody>\n",
       "</table>\n",
       "<p>2049280 rows × 6 columns</p>\n",
       "</div>"
      ],
      "text/plain": [
       "         Global_active_power  Global_reactive_power   Voltage  Sub_metering_1  \\\n",
       "0                   2.955077               2.610721 -1.851816       -0.182337   \n",
       "1                   4.037085               2.770406 -2.225274       -0.182337   \n",
       "2                   4.050326               3.320432 -2.330213       -0.182337   \n",
       "3                   4.063567               3.355917 -2.191324       -0.182337   \n",
       "4                   2.434881               3.586573 -1.592556       -0.182337   \n",
       "...                      ...                    ...       ...             ...   \n",
       "2049275            -0.137724              -1.097519 -0.126500       -0.182337   \n",
       "2049276            -0.139616              -1.097519 -0.259217       -0.182337   \n",
       "2049277            -0.145291              -1.097519 -0.314772       -0.182337   \n",
       "2049278            -0.149074              -1.097519 -0.351810       -0.182337   \n",
       "2049279            -0.150966              -1.097519 -0.398106       -0.182337   \n",
       "\n",
       "         Sub_metering_2  Sub_metering_3  \n",
       "0             -0.051274        1.249421  \n",
       "1             -0.051274        1.130897  \n",
       "2              0.120487        1.249421  \n",
       "3             -0.051274        1.249421  \n",
       "4             -0.051274        1.249421  \n",
       "...                 ...             ...  \n",
       "2049275       -0.223036       -0.765477  \n",
       "2049276       -0.223036       -0.765477  \n",
       "2049277       -0.223036       -0.765477  \n",
       "2049278       -0.223036       -0.765477  \n",
       "2049279       -0.223036       -0.765477  \n",
       "\n",
       "[2049280 rows x 6 columns]"
      ]
     },
     "execution_count": 18,
     "metadata": {},
     "output_type": "execute_result"
    }
   ],
   "source": [
    "from sklearn.preprocessing import StandardScaler\n",
    "from pandas import DataFrame\n",
    "\n",
    "\n",
    "scaler = StandardScaler()\n",
    "\n",
    "## COMPLETAR\n",
    "df_scaled = scaler.fit_transform(df.to_numpy())\n",
    "df = DataFrame(df_scaled, columns=df.columns)\n",
    "\n",
    "df"
   ]
  },
  {
   "cell_type": "markdown",
   "id": "2da1fb04",
   "metadata": {},
   "source": [
    "Los métodos de clustering necesitan saber de antemano cuántos clusters deben crear.\n",
    "¿Cuál es uno de los métodos más populares para saber cuál es el número apropiado de clústers?"
   ]
  },
  {
   "cell_type": "markdown",
   "id": "b22111bc",
   "metadata": {},
   "source": [
    "El método **Elbow**. Se basa en la idea de que los clústers adicionales mejorarán la explicación de la varianza dentro del conjunto de datos, pero que este efecto disminuirá a medida que se añadan más y más clústers. Por lo tanto, el número apropiado de clústers se puede determinar observando el punto en el que la adición de otro clúster no proporciona mucho mejoramiento en la explicación de la varianza."
   ]
  },
  {
   "cell_type": "markdown",
   "id": "382752da",
   "metadata": {},
   "source": [
    "Crea una lista de 20 modelos de KMeans y entrénalos. \n",
    "\n",
    "Haciendo uso del método indicado en la respuesta anterior, indica cuál es el número de clusters que parece más prometedor.\n",
    "\n",
    "El modelo de KMeans debe tener los siguientes parámetros:\n",
    "- n_clusters (entre 1 y 20)\n",
    "- init: k-means++\n",
    "- algorithm: algoritmo de Lloyd"
   ]
  },
  {
   "cell_type": "code",
   "execution_count": 20,
   "id": "2c74e528",
   "metadata": {},
   "outputs": [
    {
     "data": {
      "text/plain": [
       "[KMeans(n_clusters=1),\n",
       " KMeans(n_clusters=2),\n",
       " KMeans(n_clusters=3),\n",
       " KMeans(n_clusters=4),\n",
       " KMeans(n_clusters=5),\n",
       " KMeans(n_clusters=6),\n",
       " KMeans(n_clusters=7),\n",
       " KMeans(),\n",
       " KMeans(n_clusters=9),\n",
       " KMeans(n_clusters=10),\n",
       " KMeans(n_clusters=11),\n",
       " KMeans(n_clusters=12),\n",
       " KMeans(n_clusters=13),\n",
       " KMeans(n_clusters=14),\n",
       " KMeans(n_clusters=15),\n",
       " KMeans(n_clusters=16),\n",
       " KMeans(n_clusters=17),\n",
       " KMeans(n_clusters=18),\n",
       " KMeans(n_clusters=19),\n",
       " KMeans(n_clusters=20)]"
      ]
     },
     "execution_count": 20,
     "metadata": {},
     "output_type": "execute_result"
    }
   ],
   "source": [
    "from sklearn.cluster import KMeans\n",
    "\n",
    "nc = range(1, 21) # intervalo de 20 clusters\n",
    "kmeans = [KMeans(n_clusters=n, init='k-means++', algorithm='lloyd') for n in nc] #introduce aqui la sentencia para crear los 20 modelos\n",
    "#kmeans = [KMeans(n_clusters=n, init='k-means++', algorithm='elkan') for n in nc] #introduce aqui la sentencia para crear los 20 modelos\n",
    "\n",
    "kmeans"
   ]
  },
  {
   "cell_type": "code",
   "execution_count": 21,
   "id": "23217b53",
   "metadata": {},
   "outputs": [
    {
     "name": "stderr",
     "output_type": "stream",
     "text": [
      "c:\\Users\\PC\\anaconda3\\Lib\\site-packages\\sklearn\\cluster\\_kmeans.py:1412: FutureWarning: The default value of `n_init` will change from 10 to 'auto' in 1.4. Set the value of `n_init` explicitly to suppress the warning\n",
      "  super()._check_params_vs_input(X, default_n_init=10)\n",
      "c:\\Users\\PC\\anaconda3\\Lib\\site-packages\\sklearn\\cluster\\_kmeans.py:1412: FutureWarning: The default value of `n_init` will change from 10 to 'auto' in 1.4. Set the value of `n_init` explicitly to suppress the warning\n",
      "  super()._check_params_vs_input(X, default_n_init=10)\n",
      "c:\\Users\\PC\\anaconda3\\Lib\\site-packages\\sklearn\\cluster\\_kmeans.py:1412: FutureWarning: The default value of `n_init` will change from 10 to 'auto' in 1.4. Set the value of `n_init` explicitly to suppress the warning\n",
      "  super()._check_params_vs_input(X, default_n_init=10)\n",
      "c:\\Users\\PC\\anaconda3\\Lib\\site-packages\\sklearn\\cluster\\_kmeans.py:1412: FutureWarning: The default value of `n_init` will change from 10 to 'auto' in 1.4. Set the value of `n_init` explicitly to suppress the warning\n",
      "  super()._check_params_vs_input(X, default_n_init=10)\n",
      "c:\\Users\\PC\\anaconda3\\Lib\\site-packages\\sklearn\\cluster\\_kmeans.py:1412: FutureWarning: The default value of `n_init` will change from 10 to 'auto' in 1.4. Set the value of `n_init` explicitly to suppress the warning\n",
      "  super()._check_params_vs_input(X, default_n_init=10)\n",
      "c:\\Users\\PC\\anaconda3\\Lib\\site-packages\\sklearn\\cluster\\_kmeans.py:1412: FutureWarning: The default value of `n_init` will change from 10 to 'auto' in 1.4. Set the value of `n_init` explicitly to suppress the warning\n",
      "  super()._check_params_vs_input(X, default_n_init=10)\n",
      "c:\\Users\\PC\\anaconda3\\Lib\\site-packages\\sklearn\\cluster\\_kmeans.py:1412: FutureWarning: The default value of `n_init` will change from 10 to 'auto' in 1.4. Set the value of `n_init` explicitly to suppress the warning\n",
      "  super()._check_params_vs_input(X, default_n_init=10)\n",
      "c:\\Users\\PC\\anaconda3\\Lib\\site-packages\\sklearn\\cluster\\_kmeans.py:1412: FutureWarning: The default value of `n_init` will change from 10 to 'auto' in 1.4. Set the value of `n_init` explicitly to suppress the warning\n",
      "  super()._check_params_vs_input(X, default_n_init=10)\n",
      "c:\\Users\\PC\\anaconda3\\Lib\\site-packages\\sklearn\\cluster\\_kmeans.py:1412: FutureWarning: The default value of `n_init` will change from 10 to 'auto' in 1.4. Set the value of `n_init` explicitly to suppress the warning\n",
      "  super()._check_params_vs_input(X, default_n_init=10)\n",
      "c:\\Users\\PC\\anaconda3\\Lib\\site-packages\\sklearn\\cluster\\_kmeans.py:1412: FutureWarning: The default value of `n_init` will change from 10 to 'auto' in 1.4. Set the value of `n_init` explicitly to suppress the warning\n",
      "  super()._check_params_vs_input(X, default_n_init=10)\n",
      "c:\\Users\\PC\\anaconda3\\Lib\\site-packages\\sklearn\\cluster\\_kmeans.py:1412: FutureWarning: The default value of `n_init` will change from 10 to 'auto' in 1.4. Set the value of `n_init` explicitly to suppress the warning\n",
      "  super()._check_params_vs_input(X, default_n_init=10)\n",
      "c:\\Users\\PC\\anaconda3\\Lib\\site-packages\\sklearn\\cluster\\_kmeans.py:1412: FutureWarning: The default value of `n_init` will change from 10 to 'auto' in 1.4. Set the value of `n_init` explicitly to suppress the warning\n",
      "  super()._check_params_vs_input(X, default_n_init=10)\n",
      "c:\\Users\\PC\\anaconda3\\Lib\\site-packages\\sklearn\\cluster\\_kmeans.py:1412: FutureWarning: The default value of `n_init` will change from 10 to 'auto' in 1.4. Set the value of `n_init` explicitly to suppress the warning\n",
      "  super()._check_params_vs_input(X, default_n_init=10)\n",
      "c:\\Users\\PC\\anaconda3\\Lib\\site-packages\\sklearn\\cluster\\_kmeans.py:1412: FutureWarning: The default value of `n_init` will change from 10 to 'auto' in 1.4. Set the value of `n_init` explicitly to suppress the warning\n",
      "  super()._check_params_vs_input(X, default_n_init=10)\n",
      "c:\\Users\\PC\\anaconda3\\Lib\\site-packages\\sklearn\\cluster\\_kmeans.py:1412: FutureWarning: The default value of `n_init` will change from 10 to 'auto' in 1.4. Set the value of `n_init` explicitly to suppress the warning\n",
      "  super()._check_params_vs_input(X, default_n_init=10)\n",
      "c:\\Users\\PC\\anaconda3\\Lib\\site-packages\\sklearn\\cluster\\_kmeans.py:1412: FutureWarning: The default value of `n_init` will change from 10 to 'auto' in 1.4. Set the value of `n_init` explicitly to suppress the warning\n",
      "  super()._check_params_vs_input(X, default_n_init=10)\n",
      "c:\\Users\\PC\\anaconda3\\Lib\\site-packages\\sklearn\\cluster\\_kmeans.py:1412: FutureWarning: The default value of `n_init` will change from 10 to 'auto' in 1.4. Set the value of `n_init` explicitly to suppress the warning\n",
      "  super()._check_params_vs_input(X, default_n_init=10)\n",
      "c:\\Users\\PC\\anaconda3\\Lib\\site-packages\\sklearn\\cluster\\_kmeans.py:1412: FutureWarning: The default value of `n_init` will change from 10 to 'auto' in 1.4. Set the value of `n_init` explicitly to suppress the warning\n",
      "  super()._check_params_vs_input(X, default_n_init=10)\n",
      "c:\\Users\\PC\\anaconda3\\Lib\\site-packages\\sklearn\\cluster\\_kmeans.py:1412: FutureWarning: The default value of `n_init` will change from 10 to 'auto' in 1.4. Set the value of `n_init` explicitly to suppress the warning\n",
      "  super()._check_params_vs_input(X, default_n_init=10)\n",
      "c:\\Users\\PC\\anaconda3\\Lib\\site-packages\\sklearn\\cluster\\_kmeans.py:1412: FutureWarning: The default value of `n_init` will change from 10 to 'auto' in 1.4. Set the value of `n_init` explicitly to suppress the warning\n",
      "  super()._check_params_vs_input(X, default_n_init=10)\n"
     ]
    }
   ],
   "source": [
    "X = df.copy()\n",
    "\n",
    "# entrena cada uno de los modelos y guarda el resultado en una lista.\n",
    "score = [i.fit(X) for i in kmeans]"
   ]
  },
  {
   "cell_type": "markdown",
   "id": "b4bf5969",
   "metadata": {},
   "source": [
    "A partir de estos resultados, ¿cómo sabemos cuál es el número óptimo de clústers? ¿qué número es?"
   ]
  },
  {
   "cell_type": "markdown",
   "id": "2037dbcc",
   "metadata": {},
   "source": [
    "Usamos el método Elbow descrito más arriba para ver el \"codo\" y determinar cuando se hace más estable la inercia en el cluster y no mejora el hecho de añadir un nuevo cluster."
   ]
  },
  {
   "cell_type": "code",
   "execution_count": 22,
   "id": "1c46ad28",
   "metadata": {},
   "outputs": [
    {
     "data": {
      "image/png": "[encoded data removed]",
      "text/plain": [
       "<Figure size 800x550 with 1 Axes>"
      ]
     },
     "metadata": {},
     "output_type": "display_data"
    }
   ],
   "source": [
    "### PON AQUÍ TU CÓDIGO\n",
    "inertia = [model.inertia_ for model in kmeans]\n",
    "\n",
    "# Graficar el método del codo\n",
    "plt.plot(nc, inertia, marker='o')\n",
    "plt.xlabel('Número de Clústers')\n",
    "plt.ylabel('Inercia')\n",
    "plt.title('Método del Codo para Determinar el Número Óptimo de Clústers')\n",
    "plt.xticks(nc)\n",
    "plt.show()"
   ]
  },
  {
   "cell_type": "code",
   "execution_count": 23,
   "id": "f0eb131e",
   "metadata": {},
   "outputs": [],
   "source": [
    "# Después de decidir el número de clusters, entrena el modelo con dicho número\n",
    "n = 5"
   ]
  },
  {
   "cell_type": "code",
   "execution_count": 24,
   "id": "100ef0d9",
   "metadata": {},
   "outputs": [
    {
     "name": "stderr",
     "output_type": "stream",
     "text": [
      "c:\\Users\\PC\\anaconda3\\Lib\\site-packages\\sklearn\\cluster\\_kmeans.py:1412: FutureWarning: The default value of `n_init` will change from 10 to 'auto' in 1.4. Set the value of `n_init` explicitly to suppress the warning\n",
      "  super()._check_params_vs_input(X, default_n_init=10)\n"
     ]
    },
    {
     "name": "stdout",
     "output_type": "stream",
     "text": [
      "[[-0.31977317  1.20888259  0.06111901 -0.16170317 -0.06561119 -0.57346873]\n",
      " [ 0.70311396 -0.05670883 -0.34615691 -0.15086408 -0.1457814   1.35992444]\n",
      " [-0.62125033 -0.54181308  0.32078802 -0.1767867  -0.18444678 -0.71980791]\n",
      " [ 2.52745733  0.6118533  -0.99009733  0.11370222  5.86443591  0.50544412]\n",
      " [ 2.70081102  0.67641757 -1.11918102  5.80108281  0.05344542  0.56142542]]\n"
     ]
    }
   ],
   "source": [
    "kmeans = KMeans(n_clusters = n).fit(X)\n",
    "centroids = kmeans.cluster_centers_\n",
    "print(centroids)"
   ]
  },
  {
   "cell_type": "code",
   "execution_count": 25,
   "id": "7d7f5516",
   "metadata": {},
   "outputs": [
    {
     "name": "stderr",
     "output_type": "stream",
     "text": [
      "c:\\Users\\PC\\anaconda3\\Lib\\site-packages\\sklearn\\cluster\\_kmeans.py:1412: FutureWarning: The default value of `n_init` will change from 10 to 'auto' in 1.4. Set the value of `n_init` explicitly to suppress the warning\n",
      "  super()._check_params_vs_input(X, default_n_init=10)\n"
     ]
    }
   ],
   "source": [
    "kmeansmodel = KMeans(n_clusters = n, init='k-means++', random_state=0)\n",
    "y_kmeans = kmeansmodel.fit_predict(X)"
   ]
  },
  {
   "cell_type": "markdown",
   "id": "476ec5ec",
   "metadata": {},
   "source": [
    "Ahora toca interpretar lo que Kmeans ha realizado. Recordemos que el objetivo de KMeans es encontrar patrones en los datos.\n",
    "\n",
    "Lo primero que vamos a realizar es un gráfico para visualizar los clústers que ha creado en base a las variables utilizadas para crearlos."
   ]
  },
  {
   "cell_type": "code",
   "execution_count": 26,
   "id": "4e3970a1",
   "metadata": {},
   "outputs": [
    {
     "name": "stderr",
     "output_type": "stream",
     "text": [
      "c:\\Users\\PC\\anaconda3\\Lib\\site-packages\\plotly\\express\\_core.py:271: FutureWarning: The frame.append method is deprecated and will be removed from pandas in a future version. Use pandas.concat instead.\n",
      "  trace_data = trace_data.append(trace_data.iloc[0])\n",
      "c:\\Users\\PC\\anaconda3\\Lib\\site-packages\\plotly\\express\\_core.py:271: FutureWarning: The frame.append method is deprecated and will be removed from pandas in a future version. Use pandas.concat instead.\n",
      "  trace_data = trace_data.append(trace_data.iloc[0])\n",
      "c:\\Users\\PC\\anaconda3\\Lib\\site-packages\\plotly\\express\\_core.py:271: FutureWarning: The frame.append method is deprecated and will be removed from pandas in a future version. Use pandas.concat instead.\n",
      "  trace_data = trace_data.append(trace_data.iloc[0])\n",
      "c:\\Users\\PC\\anaconda3\\Lib\\site-packages\\plotly\\express\\_core.py:271: FutureWarning: The frame.append method is deprecated and will be removed from pandas in a future version. Use pandas.concat instead.\n",
      "  trace_data = trace_data.append(trace_data.iloc[0])\n",
      "c:\\Users\\PC\\anaconda3\\Lib\\site-packages\\plotly\\express\\_core.py:271: FutureWarning: The frame.append method is deprecated and will be removed from pandas in a future version. Use pandas.concat instead.\n",
      "  trace_data = trace_data.append(trace_data.iloc[0])\n"
     ]
    },
    {
     "name": "stdout",
     "output_type": "stream",
     "text": [
      "    label               variable  etiqueta\n",
      "0       0    Global_active_power  2.530634\n",
      "1       1    Global_active_power -0.621497\n",
      "2       2    Global_active_power  0.703214\n",
      "3       3    Global_active_power -0.320144\n",
      "4       4    Global_active_power  2.698735\n",
      "5       0  Global_reactive_power  0.611891\n",
      "6       1  Global_reactive_power -0.542250\n",
      "7       2  Global_reactive_power -0.055887\n",
      "8       3  Global_reactive_power  1.206718\n",
      "9       4  Global_reactive_power  0.676537\n",
      "10      0                Voltage -0.991216\n",
      "11      1                Voltage  0.321199\n",
      "12      2                Voltage -0.346071\n",
      "13      3                Voltage  0.060517\n",
      "14      4                Voltage -1.118483\n",
      "15      0         Sub_metering_1  0.119727\n",
      "16      1         Sub_metering_1 -0.176798\n",
      "17      2         Sub_metering_1 -0.150859\n",
      "18      3         Sub_metering_1 -0.161722\n",
      "19      4         Sub_metering_1  5.800919\n",
      "20      0         Sub_metering_2  5.865965\n",
      "21      1         Sub_metering_2 -0.184485\n",
      "22      2         Sub_metering_2 -0.145683\n",
      "23      3         Sub_metering_2 -0.065599\n",
      "24      4         Sub_metering_2  0.048090\n",
      "25      0         Sub_metering_3  0.505494\n",
      "26      1         Sub_metering_3 -0.719810\n",
      "27      2         Sub_metering_3  1.359972\n",
      "28      3         Sub_metering_3 -0.574587\n",
      "29      4         Sub_metering_3  0.561600\n"
     ]
    },
    {
     "data": {
      "application/vnd.plotly.v1+json": {
       "config": {
        "plotlyServerURL": "https://plot.ly"
       },
       "data": [
        {
         "hovertemplate": "label=0<br>etiqueta=%{r}<br>variable=%{theta}<extra></extra>",
         "legendgroup": "0",
         "line": {
          "color": "#636efa",
          "dash": "solid"
         },
         "marker": {
          "symbol": "circle"
         },
         "mode": "lines",
         "name": "0",
         "r": [
          2.5306336508464953,
          0.6118911199572361,
          -0.9912163339254166,
          0.11972742748668494,
          5.865964659525941,
          0.5054943827603727,
          2.5306336508464953
         ],
         "showlegend": true,
         "subplot": "polar",
         "theta": [
          "Global_active_power",
          "Global_reactive_power",
          "Voltage",
          "Sub_metering_1",
          "Sub_metering_2",
          "Sub_metering_3",
          "Global_active_power"
         ],
         "type": "scatterpolar"
        },
        {
         "hovertemplate": "label=1<br>etiqueta=%{r}<br>variable=%{theta}<extra></extra>",
         "legendgroup": "1",
         "line": {
          "color": "#EF553B",
          "dash": "solid"
         },
         "marker": {
          "symbol": "circle"
         },
         "mode": "lines",
         "name": "1",
         "r": [
          -0.6214969419881337,
          -0.5422503641621944,
          0.32119923966189623,
          -0.17679842232536816,
          -0.18448488071024688,
          -0.7198095900866038,
          -0.6214969419881337
         ],
         "showlegend": true,
         "subplot": "polar",
         "theta": [
          "Global_active_power",
          "Global_reactive_power",
          "Voltage",
          "Sub_metering_1",
          "Sub_metering_2",
          "Sub_metering_3",
          "Global_active_power"
         ],
         "type": "scatterpolar"
        },
        {
         "hovertemplate": "label=2<br>etiqueta=%{r}<br>variable=%{theta}<extra></extra>",
         "legendgroup": "2",
         "line": {
          "color": "#00cc96",
          "dash": "solid"
         },
         "marker": {
          "symbol": "circle"
         },
         "mode": "lines",
         "name": "2",
         "r": [
          0.70321424416261,
          -0.055886553275943614,
          -0.3460713424187168,
          -0.15085853778526273,
          -0.1456826871439111,
          1.3599719220077096,
          0.70321424416261
         ],
         "showlegend": true,
         "subplot": "polar",
         "theta": [
          "Global_active_power",
          "Global_reactive_power",
          "Voltage",
          "Sub_metering_1",
          "Sub_metering_2",
          "Sub_metering_3",
          "Global_active_power"
         ],
         "type": "scatterpolar"
        },
        {
         "hovertemplate": "label=3<br>etiqueta=%{r}<br>variable=%{theta}<extra></extra>",
         "legendgroup": "3",
         "line": {
          "color": "#ab63fa",
          "dash": "solid"
         },
         "marker": {
          "symbol": "circle"
         },
         "mode": "lines",
         "name": "3",
         "r": [
          -0.3201441357584449,
          1.2067179509173958,
          0.060517012467199496,
          -0.16172245772277855,
          -0.06559911301444488,
          -0.5745866771996846,
          -0.3201441357584449
         ],
         "showlegend": true,
         "subplot": "polar",
         "theta": [
          "Global_active_power",
          "Global_reactive_power",
          "Voltage",
          "Sub_metering_1",
          "Sub_metering_2",
          "Sub_metering_3",
          "Global_active_power"
         ],
         "type": "scatterpolar"
        },
        {
         "hovertemplate": "label=4<br>etiqueta=%{r}<br>variable=%{theta}<extra></extra>",
         "legendgroup": "4",
         "line": {
          "color": "#FFA15A",
          "dash": "solid"
         },
         "marker": {
          "symbol": "circle"
         },
         "mode": "lines",
         "name": "4",
         "r": [
          2.6987350795314304,
          0.6765370457877479,
          -1.1184830085098334,
          5.800919363450519,
          0.0480900304254011,
          0.5616001601321884,
          2.6987350795314304
         ],
         "showlegend": true,
         "subplot": "polar",
         "theta": [
          "Global_active_power",
          "Global_reactive_power",
          "Voltage",
          "Sub_metering_1",
          "Sub_metering_2",
          "Sub_metering_3",
          "Global_active_power"
         ],
         "type": "scatterpolar"
        }
       ],
       "layout": {
        "legend": {
         "title": {
          "text": "label"
         },
         "tracegroupgap": 0
        },
        "margin": {
         "t": 60
        },
        "polar": {
         "angularaxis": {
          "direction": "clockwise",
          "rotation": 90
         },
         "domain": {
          "x": [
           0,
           1
          ],
          "y": [
           0,
           1
          ]
         }
        },
        "template": {
         "data": {
          "bar": [
           {
            "error_x": {
             "color": "#2a3f5f"
            },
            "error_y": {
             "color": "#2a3f5f"
            },
            "marker": {
             "line": {
              "color": "#E5ECF6",
              "width": 0.5
             },
             "pattern": {
              "fillmode": "overlay",
              "size": 10,
              "solidity": 0.2
             }
            },
            "type": "bar"
           }
          ],
          "barpolar": [
           {
            "marker": {
             "line": {
              "color": "#E5ECF6",
              "width": 0.5
             },
             "pattern": {
              "fillmode": "overlay",
              "size": 10,
              "solidity": 0.2
             }
            },
            "type": "barpolar"
           }
          ],
          "carpet": [
           {
            "aaxis": {
             "endlinecolor": "#2a3f5f",
             "gridcolor": "white",
             "linecolor": "white",
             "minorgridcolor": "white",
             "startlinecolor": "#2a3f5f"
            },
            "baxis": {
             "endlinecolor": "#2a3f5f",
             "gridcolor": "white",
             "linecolor": "white",
             "minorgridcolor": "white",
             "startlinecolor": "#2a3f5f"
            },
            "type": "carpet"
           }
          ],
          "choropleth": [
           {
            "colorbar": {
             "outlinewidth": 0,
             "ticks": ""
            },
            "type": "choropleth"
           }
          ],
          "contour": [
           {
            "colorbar": {
             "outlinewidth": 0,
             "ticks": ""
            },
            "colorscale": [
             [
              0,
              "#0d0887"
             ],
             [
              0.1111111111111111,
              "#46039f"
             ],
             [
              0.2222222222222222,
              "#7201a8"
             ],
             [
              0.3333333333333333,
              "#9c179e"
             ],
             [
              0.4444444444444444,
              "#bd3786"
             ],
             [
              0.5555555555555556,
              "#d8576b"
             ],
             [
              0.6666666666666666,
              "#ed7953"
             ],
             [
              0.7777777777777778,
              "#fb9f3a"
             ],
             [
              0.8888888888888888,
              "#fdca26"
             ],
             [
              1,
              "#f0f921"
             ]
            ],
            "type": "contour"
           }
          ],
          "contourcarpet": [
           {
            "colorbar": {
             "outlinewidth": 0,
             "ticks": ""
            },
            "type": "contourcarpet"
           }
          ],
          "heatmap": [
           {
            "colorbar": {
             "outlinewidth": 0,
             "ticks": ""
            },
            "colorscale": [
             [
              0,
              "#0d0887"
             ],
             [
              0.1111111111111111,
              "#46039f"
             ],
             [
              0.2222222222222222,
              "#7201a8"
             ],
             [
              0.3333333333333333,
              "#9c179e"
             ],
             [
              0.4444444444444444,
              "#bd3786"
             ],
             [
              0.5555555555555556,
              "#d8576b"
             ],
             [
              0.6666666666666666,
              "#ed7953"
             ],
             [
              0.7777777777777778,
              "#fb9f3a"
             ],
             [
              0.8888888888888888,
              "#fdca26"
             ],
             [
              1,
              "#f0f921"
             ]
            ],
            "type": "heatmap"
           }
          ],
          "heatmapgl": [
           {
            "colorbar": {
             "outlinewidth": 0,
             "ticks": ""
            },
            "colorscale": [
             [
              0,
              "#0d0887"
             ],
             [
              0.1111111111111111,
              "#46039f"
             ],
             [
              0.2222222222222222,
              "#7201a8"
             ],
             [
              0.3333333333333333,
              "#9c179e"
             ],
             [
              0.4444444444444444,
              "#bd3786"
             ],
             [
              0.5555555555555556,
              "#d8576b"
             ],
             [
              0.6666666666666666,
              "#ed7953"
             ],
             [
              0.7777777777777778,
              "#fb9f3a"
             ],
             [
              0.8888888888888888,
              "#fdca26"
             ],
             [
              1,
              "#f0f921"
             ]
            ],
            "type": "heatmapgl"
           }
          ],
          "histogram": [
           {
            "marker": {
             "pattern": {
              "fillmode": "overlay",
              "size": 10,
              "solidity": 0.2
             }
            },
            "type": "histogram"
           }
          ],
          "histogram2d": [
           {
            "colorbar": {
             "outlinewidth": 0,
             "ticks": ""
            },
            "colorscale": [
             [
              0,
              "#0d0887"
             ],
             [
              0.1111111111111111,
              "#46039f"
             ],
             [
              0.2222222222222222,
              "#7201a8"
             ],
             [
              0.3333333333333333,
              "#9c179e"
             ],
             [
              0.4444444444444444,
              "#bd3786"
             ],
             [
              0.5555555555555556,
              "#d8576b"
             ],
             [
              0.6666666666666666,
              "#ed7953"
             ],
             [
              0.7777777777777778,
              "#fb9f3a"
             ],
             [
              0.8888888888888888,
              "#fdca26"
             ],
             [
              1,
              "#f0f921"
             ]
            ],
            "type": "histogram2d"
           }
          ],
          "histogram2dcontour": [
           {
            "colorbar": {
             "outlinewidth": 0,
             "ticks": ""
            },
            "colorscale": [
             [
              0,
              "#0d0887"
             ],
             [
              0.1111111111111111,
              "#46039f"
             ],
             [
              0.2222222222222222,
              "#7201a8"
             ],
             [
              0.3333333333333333,
              "#9c179e"
             ],
             [
              0.4444444444444444,
              "#bd3786"
             ],
             [
              0.5555555555555556,
              "#d8576b"
             ],
             [
              0.6666666666666666,
              "#ed7953"
             ],
             [
              0.7777777777777778,
              "#fb9f3a"
             ],
             [
              0.8888888888888888,
              "#fdca26"
             ],
             [
              1,
              "#f0f921"
             ]
            ],
            "type": "histogram2dcontour"
           }
          ],
          "mesh3d": [
           {
            "colorbar": {
             "outlinewidth": 0,
             "ticks": ""
            },
            "type": "mesh3d"
           }
          ],
          "parcoords": [
           {
            "line": {
             "colorbar": {
              "outlinewidth": 0,
              "ticks": ""
             }
            },
            "type": "parcoords"
           }
          ],
          "pie": [
           {
            "automargin": true,
            "type": "pie"
           }
          ],
          "scatter": [
           {
            "fillpattern": {
             "fillmode": "overlay",
             "size": 10,
             "solidity": 0.2
            },
            "type": "scatter"
           }
          ],
          "scatter3d": [
           {
            "line": {
             "colorbar": {
              "outlinewidth": 0,
              "ticks": ""
             }
            },
            "marker": {
             "colorbar": {
              "outlinewidth": 0,
              "ticks": ""
             }
            },
            "type": "scatter3d"
           }
          ],
          "scattercarpet": [
           {
            "marker": {
             "colorbar": {
              "outlinewidth": 0,
              "ticks": ""
             }
            },
            "type": "scattercarpet"
           }
          ],
          "scattergeo": [
           {
            "marker": {
             "colorbar": {
              "outlinewidth": 0,
              "ticks": ""
             }
            },
            "type": "scattergeo"
           }
          ],
          "scattergl": [
           {
            "marker": {
             "colorbar": {
              "outlinewidth": 0,
              "ticks": ""
             }
            },
            "type": "scattergl"
           }
          ],
          "scattermapbox": [
           {
            "marker": {
             "colorbar": {
              "outlinewidth": 0,
              "ticks": ""
             }
            },
            "type": "scattermapbox"
           }
          ],
          "scatterpolar": [
           {
            "marker": {
             "colorbar": {
              "outlinewidth": 0,
              "ticks": ""
             }
            },
            "type": "scatterpolar"
           }
          ],
          "scatterpolargl": [
           {
            "marker": {
             "colorbar": {
              "outlinewidth": 0,
              "ticks": ""
             }
            },
            "type": "scatterpolargl"
           }
          ],
          "scatterternary": [
           {
            "marker": {
             "colorbar": {
              "outlinewidth": 0,
              "ticks": ""
             }
            },
            "type": "scatterternary"
           }
          ],
          "surface": [
           {
            "colorbar": {
             "outlinewidth": 0,
             "ticks": ""
            },
            "colorscale": [
             [
              0,
              "#0d0887"
             ],
             [
              0.1111111111111111,
              "#46039f"
             ],
             [
              0.2222222222222222,
              "#7201a8"
             ],
             [
              0.3333333333333333,
              "#9c179e"
             ],
             [
              0.4444444444444444,
              "#bd3786"
             ],
             [
              0.5555555555555556,
              "#d8576b"
             ],
             [
              0.6666666666666666,
              "#ed7953"
             ],
             [
              0.7777777777777778,
              "#fb9f3a"
             ],
             [
              0.8888888888888888,
              "#fdca26"
             ],
             [
              1,
              "#f0f921"
             ]
            ],
            "type": "surface"
           }
          ],
          "table": [
           {
            "cells": {
             "fill": {
              "color": "#EBF0F8"
             },
             "line": {
              "color": "white"
             }
            },
            "header": {
             "fill": {
              "color": "#C8D4E3"
             },
             "line": {
              "color": "white"
             }
            },
            "type": "table"
           }
          ]
         },
         "layout": {
          "annotationdefaults": {
           "arrowcolor": "#2a3f5f",
           "arrowhead": 0,
           "arrowwidth": 1
          },
          "autotypenumbers": "strict",
          "coloraxis": {
           "colorbar": {
            "outlinewidth": 0,
            "ticks": ""
           }
          },
          "colorscale": {
           "diverging": [
            [
             0,
             "#8e0152"
            ],
            [
             0.1,
             "#c51b7d"
            ],
            [
             0.2,
             "#de77ae"
            ],
            [
             0.3,
             "#f1b6da"
            ],
            [
             0.4,
             "#fde0ef"
            ],
            [
             0.5,
             "#f7f7f7"
            ],
            [
             0.6,
             "#e6f5d0"
            ],
            [
             0.7,
             "#b8e186"
            ],
            [
             0.8,
             "#7fbc41"
            ],
            [
             0.9,
             "#4d9221"
            ],
            [
             1,
             "#276419"
            ]
           ],
           "sequential": [
            [
             0,
             "#0d0887"
            ],
            [
             0.1111111111111111,
             "#46039f"
            ],
            [
             0.2222222222222222,
             "#7201a8"
            ],
            [
             0.3333333333333333,
             "#9c179e"
            ],
            [
             0.4444444444444444,
             "#bd3786"
            ],
            [
             0.5555555555555556,
             "#d8576b"
            ],
            [
             0.6666666666666666,
             "#ed7953"
            ],
            [
             0.7777777777777778,
             "#fb9f3a"
            ],
            [
             0.8888888888888888,
             "#fdca26"
            ],
            [
             1,
             "#f0f921"
            ]
           ],
           "sequentialminus": [
            [
             0,
             "#0d0887"
            ],
            [
             0.1111111111111111,
             "#46039f"
            ],
            [
             0.2222222222222222,
             "#7201a8"
            ],
            [
             0.3333333333333333,
             "#9c179e"
            ],
            [
             0.4444444444444444,
             "#bd3786"
            ],
            [
             0.5555555555555556,
             "#d8576b"
            ],
            [
             0.6666666666666666,
             "#ed7953"
            ],
            [
             0.7777777777777778,
             "#fb9f3a"
            ],
            [
             0.8888888888888888,
             "#fdca26"
            ],
            [
             1,
             "#f0f921"
            ]
           ]
          },
          "colorway": [
           "#636efa",
           "#EF553B",
           "#00cc96",
           "#ab63fa",
           "#FFA15A",
           "#19d3f3",
           "#FF6692",
           "#B6E880",
           "#FF97FF",
           "#FECB52"
          ],
          "font": {
           "color": "#2a3f5f"
          },
          "geo": {
           "bgcolor": "white",
           "lakecolor": "white",
           "landcolor": "#E5ECF6",
           "showlakes": true,
           "showland": true,
           "subunitcolor": "white"
          },
          "hoverlabel": {
           "align": "left"
          },
          "hovermode": "closest",
          "mapbox": {
           "style": "light"
          },
          "paper_bgcolor": "white",
          "plot_bgcolor": "#E5ECF6",
          "polar": {
           "angularaxis": {
            "gridcolor": "white",
            "linecolor": "white",
            "ticks": ""
           },
           "bgcolor": "#E5ECF6",
           "radialaxis": {
            "gridcolor": "white",
            "linecolor": "white",
            "ticks": ""
           }
          },
          "scene": {
           "xaxis": {
            "backgroundcolor": "#E5ECF6",
            "gridcolor": "white",
            "gridwidth": 2,
            "linecolor": "white",
            "showbackground": true,
            "ticks": "",
            "zerolinecolor": "white"
           },
           "yaxis": {
            "backgroundcolor": "#E5ECF6",
            "gridcolor": "white",
            "gridwidth": 2,
            "linecolor": "white",
            "showbackground": true,
            "ticks": "",
            "zerolinecolor": "white"
           },
           "zaxis": {
            "backgroundcolor": "#E5ECF6",
            "gridcolor": "white",
            "gridwidth": 2,
            "linecolor": "white",
            "showbackground": true,
            "ticks": "",
            "zerolinecolor": "white"
           }
          },
          "shapedefaults": {
           "line": {
            "color": "#2a3f5f"
           }
          },
          "ternary": {
           "aaxis": {
            "gridcolor": "white",
            "linecolor": "white",
            "ticks": ""
           },
           "baxis": {
            "gridcolor": "white",
            "linecolor": "white",
            "ticks": ""
           },
           "bgcolor": "#E5ECF6",
           "caxis": {
            "gridcolor": "white",
            "linecolor": "white",
            "ticks": ""
           }
          },
          "title": {
           "x": 0.05
          },
          "xaxis": {
           "automargin": true,
           "gridcolor": "white",
           "linecolor": "white",
           "ticks": "",
           "title": {
            "standoff": 15
           },
           "zerolinecolor": "white",
           "zerolinewidth": 2
          },
          "yaxis": {
           "automargin": true,
           "gridcolor": "white",
           "linecolor": "white",
           "ticks": "",
           "title": {
            "standoff": 15
           },
           "zerolinecolor": "white",
           "zerolinewidth": 2
          }
         }
        }
       }
      }
     },
     "metadata": {},
     "output_type": "display_data"
    }
   ],
   "source": [
    "# import plotly.express as px\n",
    "\n",
    "# clusters = pd.DataFrame(X,columns=X.columns)\n",
    "# clusters['label'] = kmeansmodel.labels_\n",
    "# polar = clusters.groupby(\"label\").mean().reset_index()\n",
    "# polar = pd.melt(polar,id_vars=[\"label\"])\n",
    "# fig4 = px.line_polar(polar, r=\"value\", theta=\"variable\", color=\"label\", line_close=True,height=800,width=600)\n",
    "# fig4.show()\n",
    "\n",
    "import plotly.express as px\n",
    "\n",
    "#print(X)\n",
    "clusters = pd.DataFrame(X,columns=df.columns)\n",
    "\n",
    "#print(clusters)\n",
    "\n",
    "clusters['label'] = kmeansmodel.labels_\n",
    "polar = clusters.groupby(\"label\").mean().reset_index()\n",
    "\n",
    "polar = polar.melt(id_vars=['label'], value_name='etiqueta')\n",
    "\n",
    "fig4 = px.line_polar(polar, r=\"etiqueta\", theta=\"variable\", color=\"label\", line_close=True)\n",
    "\n",
    "print(polar)\n",
    "\n",
    "fig4.show()"
   ]
  },
  {
   "cell_type": "markdown",
   "id": "54b9711a",
   "metadata": {},
   "source": [
    "En base a la figura de la representación de los clusters, ¿cuál es la variable que más nos ayuda a diferenciar los usos?"
   ]
  },
  {
   "cell_type": "markdown",
   "id": "722cb5a2",
   "metadata": {},
   "source": [
    "Visto tanto el gráfico como la tabla, parece que las vriables submetering son las que ayudan a segmentar más sin duda entre la clase 0 y la clase 4 ya que caracterizan totalmente esas clases. Un valor en una de esas clases \"caracterizará\" su consumo como definen las variables de submetering del dataset por el \"modelo\" de electrodomesticos que caracteriza ese consumo. Por otra parte la clase 2 está caracterizada por sub_metering_3 (aunque en menor medida)  y en la clase 1 y 3 parece que Voltage y Global reactive Power son las que definen esas clases respectivamente.\n",
    "\n",
    "De modo que quizás las que más influyen en la diferenciación de los usos son las variables **sub_metering**."
   ]
  },
  {
   "cell_type": "code",
   "execution_count": 27,
   "id": "11698ac7",
   "metadata": {},
   "outputs": [
    {
     "data": {
      "application/vnd.plotly.v1+json": {
       "config": {
        "plotlyServerURL": "https://plot.ly"
       },
       "data": [
        {
         "domain": {
          "x": [
           0,
           1
          ],
          "y": [
           0,
           1
          ]
         },
         "hovertemplate": "label=%{label}<br>value=%{value}<extra></extra>",
         "labels": [
          0,
          1,
          2,
          3,
          4
         ],
         "legendgroup": "",
         "name": "",
         "showlegend": true,
         "type": "pie",
         "values": [
          48695,
          933581,
          619538,
          392951,
          54515
         ]
        }
       ],
       "layout": {
        "legend": {
         "tracegroupgap": 0
        },
        "margin": {
         "t": 60
        },
        "template": {
         "data": {
          "bar": [
           {
            "error_x": {
             "color": "#2a3f5f"
            },
            "error_y": {
             "color": "#2a3f5f"
            },
            "marker": {
             "line": {
              "color": "#E5ECF6",
              "width": 0.5
             },
             "pattern": {
              "fillmode": "overlay",
              "size": 10,
              "solidity": 0.2
             }
            },
            "type": "bar"
           }
          ],
          "barpolar": [
           {
            "marker": {
             "line": {
              "color": "#E5ECF6",
              "width": 0.5
             },
             "pattern": {
              "fillmode": "overlay",
              "size": 10,
              "solidity": 0.2
             }
            },
            "type": "barpolar"
           }
          ],
          "carpet": [
           {
            "aaxis": {
             "endlinecolor": "#2a3f5f",
             "gridcolor": "white",
             "linecolor": "white",
             "minorgridcolor": "white",
             "startlinecolor": "#2a3f5f"
            },
            "baxis": {
             "endlinecolor": "#2a3f5f",
             "gridcolor": "white",
             "linecolor": "white",
             "minorgridcolor": "white",
             "startlinecolor": "#2a3f5f"
            },
            "type": "carpet"
           }
          ],
          "choropleth": [
           {
            "colorbar": {
             "outlinewidth": 0,
             "ticks": ""
            },
            "type": "choropleth"
           }
          ],
          "contour": [
           {
            "colorbar": {
             "outlinewidth": 0,
             "ticks": ""
            },
            "colorscale": [
             [
              0,
              "#0d0887"
             ],
             [
              0.1111111111111111,
              "#46039f"
             ],
             [
              0.2222222222222222,
              "#7201a8"
             ],
             [
              0.3333333333333333,
              "#9c179e"
             ],
             [
              0.4444444444444444,
              "#bd3786"
             ],
             [
              0.5555555555555556,
              "#d8576b"
             ],
             [
              0.6666666666666666,
              "#ed7953"
             ],
             [
              0.7777777777777778,
              "#fb9f3a"
             ],
             [
              0.8888888888888888,
              "#fdca26"
             ],
             [
              1,
              "#f0f921"
             ]
            ],
            "type": "contour"
           }
          ],
          "contourcarpet": [
           {
            "colorbar": {
             "outlinewidth": 0,
             "ticks": ""
            },
            "type": "contourcarpet"
           }
          ],
          "heatmap": [
           {
            "colorbar": {
             "outlinewidth": 0,
             "ticks": ""
            },
            "colorscale": [
             [
              0,
              "#0d0887"
             ],
             [
              0.1111111111111111,
              "#46039f"
             ],
             [
              0.2222222222222222,
              "#7201a8"
             ],
             [
              0.3333333333333333,
              "#9c179e"
             ],
             [
              0.4444444444444444,
              "#bd3786"
             ],
             [
              0.5555555555555556,
              "#d8576b"
             ],
             [
              0.6666666666666666,
              "#ed7953"
             ],
             [
              0.7777777777777778,
              "#fb9f3a"
             ],
             [
              0.8888888888888888,
              "#fdca26"
             ],
             [
              1,
              "#f0f921"
             ]
            ],
            "type": "heatmap"
           }
          ],
          "heatmapgl": [
           {
            "colorbar": {
             "outlinewidth": 0,
             "ticks": ""
            },
            "colorscale": [
             [
              0,
              "#0d0887"
             ],
             [
              0.1111111111111111,
              "#46039f"
             ],
             [
              0.2222222222222222,
              "#7201a8"
             ],
             [
              0.3333333333333333,
              "#9c179e"
             ],
             [
              0.4444444444444444,
              "#bd3786"
             ],
             [
              0.5555555555555556,
              "#d8576b"
             ],
             [
              0.6666666666666666,
              "#ed7953"
             ],
             [
              0.7777777777777778,
              "#fb9f3a"
             ],
             [
              0.8888888888888888,
              "#fdca26"
             ],
             [
              1,
              "#f0f921"
             ]
            ],
            "type": "heatmapgl"
           }
          ],
          "histogram": [
           {
            "marker": {
             "pattern": {
              "fillmode": "overlay",
              "size": 10,
              "solidity": 0.2
             }
            },
            "type": "histogram"
           }
          ],
          "histogram2d": [
           {
            "colorbar": {
             "outlinewidth": 0,
             "ticks": ""
            },
            "colorscale": [
             [
              0,
              "#0d0887"
             ],
             [
              0.1111111111111111,
              "#46039f"
             ],
             [
              0.2222222222222222,
              "#7201a8"
             ],
             [
              0.3333333333333333,
              "#9c179e"
             ],
             [
              0.4444444444444444,
              "#bd3786"
             ],
             [
              0.5555555555555556,
              "#d8576b"
             ],
             [
              0.6666666666666666,
              "#ed7953"
             ],
             [
              0.7777777777777778,
              "#fb9f3a"
             ],
             [
              0.8888888888888888,
              "#fdca26"
             ],
             [
              1,
              "#f0f921"
             ]
            ],
            "type": "histogram2d"
           }
          ],
          "histogram2dcontour": [
           {
            "colorbar": {
             "outlinewidth": 0,
             "ticks": ""
            },
            "colorscale": [
             [
              0,
              "#0d0887"
             ],
             [
              0.1111111111111111,
              "#46039f"
             ],
             [
              0.2222222222222222,
              "#7201a8"
             ],
             [
              0.3333333333333333,
              "#9c179e"
             ],
             [
              0.4444444444444444,
              "#bd3786"
             ],
             [
              0.5555555555555556,
              "#d8576b"
             ],
             [
              0.6666666666666666,
              "#ed7953"
             ],
             [
              0.7777777777777778,
              "#fb9f3a"
             ],
             [
              0.8888888888888888,
              "#fdca26"
             ],
             [
              1,
              "#f0f921"
             ]
            ],
            "type": "histogram2dcontour"
           }
          ],
          "mesh3d": [
           {
            "colorbar": {
             "outlinewidth": 0,
             "ticks": ""
            },
            "type": "mesh3d"
           }
          ],
          "parcoords": [
           {
            "line": {
             "colorbar": {
              "outlinewidth": 0,
              "ticks": ""
             }
            },
            "type": "parcoords"
           }
          ],
          "pie": [
           {
            "automargin": true,
            "type": "pie"
           }
          ],
          "scatter": [
           {
            "fillpattern": {
             "fillmode": "overlay",
             "size": 10,
             "solidity": 0.2
            },
            "type": "scatter"
           }
          ],
          "scatter3d": [
           {
            "line": {
             "colorbar": {
              "outlinewidth": 0,
              "ticks": ""
             }
            },
            "marker": {
             "colorbar": {
              "outlinewidth": 0,
              "ticks": ""
             }
            },
            "type": "scatter3d"
           }
          ],
          "scattercarpet": [
           {
            "marker": {
             "colorbar": {
              "outlinewidth": 0,
              "ticks": ""
             }
            },
            "type": "scattercarpet"
           }
          ],
          "scattergeo": [
           {
            "marker": {
             "colorbar": {
              "outlinewidth": 0,
              "ticks": ""
             }
            },
            "type": "scattergeo"
           }
          ],
          "scattergl": [
           {
            "marker": {
             "colorbar": {
              "outlinewidth": 0,
              "ticks": ""
             }
            },
            "type": "scattergl"
           }
          ],
          "scattermapbox": [
           {
            "marker": {
             "colorbar": {
              "outlinewidth": 0,
              "ticks": ""
             }
            },
            "type": "scattermapbox"
           }
          ],
          "scatterpolar": [
           {
            "marker": {
             "colorbar": {
              "outlinewidth": 0,
              "ticks": ""
             }
            },
            "type": "scatterpolar"
           }
          ],
          "scatterpolargl": [
           {
            "marker": {
             "colorbar": {
              "outlinewidth": 0,
              "ticks": ""
             }
            },
            "type": "scatterpolargl"
           }
          ],
          "scatterternary": [
           {
            "marker": {
             "colorbar": {
              "outlinewidth": 0,
              "ticks": ""
             }
            },
            "type": "scatterternary"
           }
          ],
          "surface": [
           {
            "colorbar": {
             "outlinewidth": 0,
             "ticks": ""
            },
            "colorscale": [
             [
              0,
              "#0d0887"
             ],
             [
              0.1111111111111111,
              "#46039f"
             ],
             [
              0.2222222222222222,
              "#7201a8"
             ],
             [
              0.3333333333333333,
              "#9c179e"
             ],
             [
              0.4444444444444444,
              "#bd3786"
             ],
             [
              0.5555555555555556,
              "#d8576b"
             ],
             [
              0.6666666666666666,
              "#ed7953"
             ],
             [
              0.7777777777777778,
              "#fb9f3a"
             ],
             [
              0.8888888888888888,
              "#fdca26"
             ],
             [
              1,
              "#f0f921"
             ]
            ],
            "type": "surface"
           }
          ],
          "table": [
           {
            "cells": {
             "fill": {
              "color": "#EBF0F8"
             },
             "line": {
              "color": "white"
             }
            },
            "header": {
             "fill": {
              "color": "#C8D4E3"
             },
             "line": {
              "color": "white"
             }
            },
            "type": "table"
           }
          ]
         },
         "layout": {
          "annotationdefaults": {
           "arrowcolor": "#2a3f5f",
           "arrowhead": 0,
           "arrowwidth": 1
          },
          "autotypenumbers": "strict",
          "coloraxis": {
           "colorbar": {
            "outlinewidth": 0,
            "ticks": ""
           }
          },
          "colorscale": {
           "diverging": [
            [
             0,
             "#8e0152"
            ],
            [
             0.1,
             "#c51b7d"
            ],
            [
             0.2,
             "#de77ae"
            ],
            [
             0.3,
             "#f1b6da"
            ],
            [
             0.4,
             "#fde0ef"
            ],
            [
             0.5,
             "#f7f7f7"
            ],
            [
             0.6,
             "#e6f5d0"
            ],
            [
             0.7,
             "#b8e186"
            ],
            [
             0.8,
             "#7fbc41"
            ],
            [
             0.9,
             "#4d9221"
            ],
            [
             1,
             "#276419"
            ]
           ],
           "sequential": [
            [
             0,
             "#0d0887"
            ],
            [
             0.1111111111111111,
             "#46039f"
            ],
            [
             0.2222222222222222,
             "#7201a8"
            ],
            [
             0.3333333333333333,
             "#9c179e"
            ],
            [
             0.4444444444444444,
             "#bd3786"
            ],
            [
             0.5555555555555556,
             "#d8576b"
            ],
            [
             0.6666666666666666,
             "#ed7953"
            ],
            [
             0.7777777777777778,
             "#fb9f3a"
            ],
            [
             0.8888888888888888,
             "#fdca26"
            ],
            [
             1,
             "#f0f921"
            ]
           ],
           "sequentialminus": [
            [
             0,
             "#0d0887"
            ],
            [
             0.1111111111111111,
             "#46039f"
            ],
            [
             0.2222222222222222,
             "#7201a8"
            ],
            [
             0.3333333333333333,
             "#9c179e"
            ],
            [
             0.4444444444444444,
             "#bd3786"
            ],
            [
             0.5555555555555556,
             "#d8576b"
            ],
            [
             0.6666666666666666,
             "#ed7953"
            ],
            [
             0.7777777777777778,
             "#fb9f3a"
            ],
            [
             0.8888888888888888,
             "#fdca26"
            ],
            [
             1,
             "#f0f921"
            ]
           ]
          },
          "colorway": [
           "#636efa",
           "#EF553B",
           "#00cc96",
           "#ab63fa",
           "#FFA15A",
           "#19d3f3",
           "#FF6692",
           "#B6E880",
           "#FF97FF",
           "#FECB52"
          ],
          "font": {
           "color": "#2a3f5f"
          },
          "geo": {
           "bgcolor": "white",
           "lakecolor": "white",
           "landcolor": "#E5ECF6",
           "showlakes": true,
           "showland": true,
           "subunitcolor": "white"
          },
          "hoverlabel": {
           "align": "left"
          },
          "hovermode": "closest",
          "mapbox": {
           "style": "light"
          },
          "paper_bgcolor": "white",
          "plot_bgcolor": "#E5ECF6",
          "polar": {
           "angularaxis": {
            "gridcolor": "white",
            "linecolor": "white",
            "ticks": ""
           },
           "bgcolor": "#E5ECF6",
           "radialaxis": {
            "gridcolor": "white",
            "linecolor": "white",
            "ticks": ""
           }
          },
          "scene": {
           "xaxis": {
            "backgroundcolor": "#E5ECF6",
            "gridcolor": "white",
            "gridwidth": 2,
            "linecolor": "white",
            "showbackground": true,
            "ticks": "",
            "zerolinecolor": "white"
           },
           "yaxis": {
            "backgroundcolor": "#E5ECF6",
            "gridcolor": "white",
            "gridwidth": 2,
            "linecolor": "white",
            "showbackground": true,
            "ticks": "",
            "zerolinecolor": "white"
           },
           "zaxis": {
            "backgroundcolor": "#E5ECF6",
            "gridcolor": "white",
            "gridwidth": 2,
            "linecolor": "white",
            "showbackground": true,
            "ticks": "",
            "zerolinecolor": "white"
           }
          },
          "shapedefaults": {
           "line": {
            "color": "#2a3f5f"
           }
          },
          "ternary": {
           "aaxis": {
            "gridcolor": "white",
            "linecolor": "white",
            "ticks": ""
           },
           "baxis": {
            "gridcolor": "white",
            "linecolor": "white",
            "ticks": ""
           },
           "bgcolor": "#E5ECF6",
           "caxis": {
            "gridcolor": "white",
            "linecolor": "white",
            "ticks": ""
           }
          },
          "title": {
           "x": 0.05
          },
          "xaxis": {
           "automargin": true,
           "gridcolor": "white",
           "linecolor": "white",
           "ticks": "",
           "title": {
            "standoff": 15
           },
           "zerolinecolor": "white",
           "zerolinewidth": 2
          },
          "yaxis": {
           "automargin": true,
           "gridcolor": "white",
           "linecolor": "white",
           "ticks": "",
           "title": {
            "standoff": 15
           },
           "zerolinecolor": "white",
           "zerolinewidth": 2
          }
         }
        }
       }
      }
     },
     "metadata": {},
     "output_type": "display_data"
    }
   ],
   "source": [
    "pie = clusters.groupby('label').size().reset_index()\n",
    "pie.columns = ['label','value']\n",
    "px.pie(pie,values ='value',names ='label')"
   ]
  },
  {
   "cell_type": "markdown",
   "id": "e19b1c36",
   "metadata": {},
   "source": [
    "¿Qué representa el gráfico de la celda anterior?"
   ]
  },
  {
   "cell_type": "markdown",
   "id": "9a06154b",
   "metadata": {},
   "source": [
    "El número de instancias que han sido asociadas a cada clase del dataset. Muchas más en la clase 1 y muchas menos por ejemplo en la clase 0."
   ]
  },
  {
   "cell_type": "markdown",
   "id": "fbf36722",
   "metadata": {},
   "source": [
    "¿Qué características tiene el consumo del cluster 0?"
   ]
  },
  {
   "cell_type": "markdown",
   "id": "84568a51",
   "metadata": {},
   "source": [
    "A la vista del gráfico obtenido anteriormente, todas las instancias asociadas con el cluster 0 tienen un sub_metering_2 elevado h, esto quiere decir que tiene mucho consumo caracterizado por un entorno de lavandería con una lavadora, una secadora un refrigerador y una luz. Posiblemente las muestras que caigan en este cluster hagan mucho uso de esos elementos (o el consumo se pueda modelar por el consumo de esos elementos).  "
   ]
  },
  {
   "cell_type": "markdown",
   "id": "0badd89b",
   "metadata": {},
   "source": [
    "Repite lo mismo pero esta vez utiliza para el entrenamiento de KMeans el algortimo de 'Elkan', ¿existen diferencias en el número de clústers? ¿y en la importancia de las variables?"
   ]
  },
  {
   "cell_type": "markdown",
   "id": "2b690b55",
   "metadata": {},
   "source": [
    "Aparentemente ELKAN genera una gráfica para el método de Elbow identica con lo que tomarías las mismas clases (5) y la importancia de las variables se mantiene."
   ]
  },
  {
   "cell_type": "markdown",
   "id": "53381e63",
   "metadata": {},
   "source": [
    "### Detección de anomalías\n",
    "\n",
    "## **Artículo 1**\n",
    "\n",
    "https://ieeexplore.ieee.org/abstract/document/7507933/authors#authors"
   ]
  },
  {
   "cell_type": "markdown",
   "id": "de4b4041",
   "metadata": {},
   "source": [
    "(Kumari et al., 2016)\n",
    "\n",
    "- Título: Anomaly detection in network traffic using K-mean clustering\n",
    "- Autores: R. Kumari; Sheetanshu; M. K. Singh; R. Jha; N.K. Singh\n",
    "- Revista: IEEE\n",
    "- Publicado en: 3rd International Conference on Recent Advances in Information Technology (RAIT)\n",
    "- Año de publicación: 2016\n",
    "\n",
    "- Objetivo: Detección de anomalías en el tráfico de redes informático. Un objetivo cada vez más requerido debido al aumento de ciberataques y de datos personales y críticos que manejan las empresas.\n",
    "\n",
    "La técnica utilizada es **K-Means**, utilizando datos en tiempo real mediante StreamingKMeans de Spark.\n",
    "\n",
    "\n",
    "**Principales resultados de la aplicación y de la investigación:**\n",
    "\n",
    "El método de detección de anomalías basado en K-means es una herramienta útil para la seguridad de redes. El principal problema es el tratamiento de datos, especialmente en tiempo real.\n",
    "\n",
    "Por otro lado, se utiliza la distancia Euclidea, pudiendo usar la Mahalonoan. Finalmente, los investigadores recomiendan sustituir el modelo iterativo de k-means por uno de mezcla Gaussiana o un modelo DBSCAN, disponible también en Spark."
   ]
  },
  {
   "cell_type": "markdown",
   "id": "d0ab799e",
   "metadata": {},
   "source": [
    "Kumari, R., Singh, M. K., Jha, R., & Singh, N. K. (2016, March). Anomaly detection in network traffic using K-mean clustering. In 2016 3rd international conference on recent advances in information technology (RAIT) (pp. 387-393). IEEE."
   ]
  },
  {
   "cell_type": "markdown",
   "id": "07567322",
   "metadata": {},
   "source": [
    "## **Artículo 2**\n",
    "\n",
    "(https://www.sciencedirect.com/science/article/pii/S1877050915004172)"
   ]
  },
  {
   "cell_type": "markdown",
   "id": "565f73cb",
   "metadata": {},
   "source": [
    "(Ravale et al.,2015)\n",
    "\n",
    "- Título: Feature Selection Based Hybrid Anomaly Intrusion Detection System Using K Means and RBF Kernel Function\n",
    "- Autores: Ujwala Ravale, Nilesh Marathe, Puja Padiya\n",
    "- Revista: Procedia Computer Science\n",
    "- Año de publicación: 2015\n",
    "\n",
    "- Objetivo: Mejorar la detección de las intrusiones de seguridad. Su meta principal es reducir el número de atributos utilizados.\n",
    "\n",
    "La técnica utilizada para ello es **K-Means** junto a **Support Vector Machine (SVM)**, usando una función de kernel radial (RBF).\n",
    "\n",
    "\n",
    "**Principales resultados de la aplicación y de la investigación:**\n",
    "\n",
    "Se reducen la complejidad, aumentando el rendimiento.\n",
    "Los resultados demuestran que la tasa de precisión y detección de DOS, PROBE, U2R y R2L aumenta.\n",
    "\n",
    "\n",
    "Además, para conjuntos de datos con un número reducido de atributos, el rendimiento aumenta ligeramente en comparación con el conjunto de 41 atributos. Asimismo, la tasa de falsos positivos también disminuye con la técnica propuesta.\n",
    "\n",
    "En conclusión, aumenta la precisión de la detección de anomalías en en el dataset propuesto  KDDCUP’99"
   ]
  },
  {
   "cell_type": "markdown",
   "id": "fa2fa5cf",
   "metadata": {},
   "source": [
    "Ravale, U., Marathe, N., & Padiya, P. (2015). Feature selection based hybrid anomaly intrusion detection system using K means and RBF kernel function. Procedia Computer Science, 45, 428-435."
   ]
  }
 ],
 "metadata": {
  "kernelspec": {
   "display_name": "Python 3 (ipykernel)",
   "language": "python",
   "name": "python3"
  },
  "language_info": {
   "codemirror_mode": {
    "name": "ipython",
    "version": 3
   },
   "file_extension": ".py",
   "mimetype": "text/x-python",
   "name": "python",
   "nbconvert_exporter": "python",
   "pygments_lexer": "ipython3",
   "version": "3.11.5"
  }
 },
 "nbformat": 4,
 "nbformat_minor": 5
}
